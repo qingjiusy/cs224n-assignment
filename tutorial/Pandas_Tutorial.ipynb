{
 "cells": [
  {
   "cell_type": "markdown",
   "metadata": {},
   "source": [
    "[Python Pandas tutorial](https://www.runoob.com/pandas/pandas-intro.html)."
   ]
  },
  {
   "cell_type": "code",
   "execution_count": 1,
   "metadata": {},
   "outputs": [
    {
     "name": "stdout",
     "output_type": "stream",
     "text": [
      "    sites  number\n",
      "0  Google       1\n",
      "1  Runoob       2\n",
      "2    Wiki       3\n"
     ]
    }
   ],
   "source": [
    "import pandas as pd\n",
    "\n",
    "mydataset = {\n",
    "  'sites': [\"Google\", \"Runoob\", \"Wiki\"],\n",
    "  'number': [1, 2, 3]\n",
    "}\n",
    "\n",
    "myvar = pd.DataFrame(mydataset)\n",
    "\n",
    "print(myvar)"
   ]
  },
  {
   "cell_type": "markdown",
   "metadata": {},
   "source": [
    "### Pandas Series 类似表格中的一个列（column），类似于一维数组，可以保存任何数据类型。\n",
    "\n",
    "Series**Series** 的数据结构是非常有用的，因为它可以处理各种数据类型，同时保持了高效的数据操作能力。\n",
    "\n",
    "Series 特点：\n",
    "一维数组：Series是一维的，这意味着它只有一个轴（或维度），类似于 Python 中的列表。\n",
    "\n",
    "索引： 每个 Series 都有一个索引，它可以是整数、字符串、日期等类型。如果不指定索引，Pandas 将默认创建一个从 0 开始的整数索引。\n",
    "\n",
    "数据类型： Series 可以容纳不同数据类型的元素，包括整数、浮点数、字符串、Python 对象等。\n",
    "\n",
    "大小不变性：Series 的大小在创建后是不变的，但可以通过某些操作（如 append 或 delete）来改变。\n",
    "\n",
    "操作：Series 支持各种操作，如数学运算、统计分析、字符串处理等。\n",
    "\n",
    "缺失数据：Series 可以包含缺失数据，Pandas 使用NaN（Not a Number）来表示缺失或无值。"
   ]
  },
  {
   "cell_type": "markdown",
   "metadata": {},
   "source": [
    "可以使用 pd.Series() 构造函数创建一个 Series 对象，传递一个数据数组（可以是列表、NumPy 数组等）和一个可选的索引数组。"
   ]
  },
  {
   "cell_type": "markdown",
   "metadata": {},
   "source": [
    "pandas.Series(data=None, index=None, dtype=None, name=None, copy=False, fastpath=False)"
   ]
  },
  {
   "cell_type": "markdown",
   "metadata": {},
   "source": [
    "data：Series 的数据部分，可以是列表、数组、字典、标量值等。如果不提供此参数，则创建一个空的 Series。\n",
    "\n",
    "index：Series 的索引部分，用于对数据进行标记。可以是列表、数组、索引对象等。如果不提供此参数，则创建一个默认的整数索引。\n",
    "\n",
    "dtype：指定 Series 的数据类型。可以是 NumPy 的数据类型，例如 np.int64、np.float64 等。如果不提供此参数，则根据数据自动推断数据类型。\n",
    "\n",
    "name：Series 的名称，用于标识 Series 对象。如果提供了此参数，则创建的 Series 对象将具有指定的名称。\n",
    "\n",
    "copy：是否复制数据。默认为 False，表示不复制数据。如果设置为 True，则复制输入的数据。\n",
    "\n",
    "fastpath：是否启用快速路径。默认为 False。启用快速路径可能会在某些情况下提高性能。"
   ]
  },
  {
   "cell_type": "code",
   "execution_count": 2,
   "metadata": {},
   "outputs": [
    {
     "name": "stdout",
     "output_type": "stream",
     "text": [
      "0    1\n",
      "1    2\n",
      "2    3\n",
      "dtype: int64\n",
      "2\n"
     ]
    }
   ],
   "source": [
    "import pandas as pd\n",
    "\n",
    "a = [1, 2, 3]\n",
    "\n",
    "myvar_1 = pd.Series(a)\n",
    "\n",
    "print(myvar_1)\n",
    "print(myvar_1[1])"
   ]
  },
  {
   "cell_type": "markdown",
   "metadata": {},
   "source": [
    "我们可以指定索引值，如下实例：\n",
    "\n",
    "并且根据索引值读取数据"
   ]
  },
  {
   "cell_type": "code",
   "execution_count": 3,
   "metadata": {},
   "outputs": [
    {
     "name": "stdout",
     "output_type": "stream",
     "text": [
      "x    Google\n",
      "y    Runoob\n",
      "z      Wiki\n",
      "dtype: object\n",
      "Wiki\n"
     ]
    }
   ],
   "source": [
    "a = [\"Google\", \"Runoob\", \"Wiki\"]\n",
    "\n",
    "myvar_2 = pd.Series(a, index = [\"x\", \"y\", \"z\"])\n",
    "print(myvar_2)\n",
    "print(myvar_2[\"z\"])"
   ]
  },
  {
   "cell_type": "markdown",
   "metadata": {},
   "source": [
    "我们也可以使用 key/value 对象，类似字典来创建 Series：\n",
    "\n",
    "如果我们只需要字典中的一部分数据，只需要指定需要数据的索引即可，如下实例："
   ]
  },
  {
   "cell_type": "code",
   "execution_count": 4,
   "metadata": {},
   "outputs": [
    {
     "name": "stdout",
     "output_type": "stream",
     "text": [
      "1    Google\n",
      "2    Runoob\n",
      "3      Wiki\n",
      "dtype: object\n",
      "--------------------------------------------------------------------------------\n",
      "1    Google\n",
      "2    Runoob\n",
      "dtype: object\n"
     ]
    }
   ],
   "source": [
    "sites = {1: \"Google\", 2: \"Runoob\", 3: \"Wiki\"}\n",
    "myvar_3 = pd.Series(sites)\n",
    "print(myvar_3)\n",
    "print(\"-\"*80)\n",
    "myvar_3 = pd.Series(sites, index = [1, 2])\n",
    "print(myvar_3)"
   ]
  },
  {
   "cell_type": "markdown",
   "metadata": {},
   "source": [
    "设置 Series 名称参数："
   ]
  },
  {
   "cell_type": "code",
   "execution_count": 5,
   "metadata": {},
   "outputs": [
    {
     "name": "stdout",
     "output_type": "stream",
     "text": [
      "3      Wiki\n",
      "2    Runoob\n",
      "Name: RUNOOB-Series-TEST, dtype: object\n"
     ]
    }
   ],
   "source": [
    "myvar_4 = pd.Series(sites, index = [3, 2], name=\"RUNOOB-Series-TEST\" )\n",
    "print(myvar_4)"
   ]
  },
  {
   "cell_type": "markdown",
   "metadata": {},
   "source": [
    "可以使用列表、字典或数组创建一个默认索引的 Series。"
   ]
  },
  {
   "cell_type": "code",
   "execution_count": 6,
   "metadata": {},
   "outputs": [
    {
     "name": "stdout",
     "output_type": "stream",
     "text": [
      "0    1\n",
      "1    2\n",
      "2    3\n",
      "3    4\n",
      "dtype: int64\n",
      "--------------------------------------------------------------------------------\n",
      "0    1\n",
      "1    2\n",
      "2    3\n",
      "3    4\n",
      "dtype: int32\n",
      "--------------------------------------------------------------------------------\n",
      "a    1\n",
      "b    2\n",
      "c    3\n",
      "d    4\n",
      "dtype: int64\n"
     ]
    }
   ],
   "source": [
    "import numpy as np\n",
    "\n",
    "# 使用列表创建 Series\n",
    "s = pd.Series([1, 2, 3, 4])\n",
    "print(s)\n",
    "print(\"-\"*80)\n",
    "# 使用 NumPy 数组创建 Series\n",
    "s = pd.Series(np.array([1, 2, 3, 4]))\n",
    "print(s)\n",
    "print(\"-\"*80)\n",
    "# 使用字典创建 Series\n",
    "s = pd.Series({'a': 1, 'b': 2, 'c': 3, 'd': 4})\n",
    "print(s)"
   ]
  },
  {
   "cell_type": "markdown",
   "metadata": {},
   "source": [
    "series的各种基本操作："
   ]
  },
  {
   "cell_type": "code",
   "execution_count": 7,
   "metadata": {},
   "outputs": [
    {
     "name": "stdout",
     "output_type": "stream",
     "text": [
      "a    1\n",
      "b    2\n",
      "c    3\n",
      "d    4\n",
      "dtype: int64\n",
      "--------------------------------------------------------------------------------\n",
      "3 3\n",
      "--------------------------------------------------------------------------------\n",
      "获取索引为1到3的切片的series:\n",
      "b    2\n",
      "c    3\n",
      "d    4\n",
      "dtype: int64\n",
      "--------------------------------------------------------------------------------\n",
      "获取位置索引为1到3的切片的series:\n",
      "b    2\n",
      "c    3\n",
      "d    4\n",
      "dtype: int64\n",
      "--------------------------------------------------------------------------------\n",
      "获取索引标签从b到d的切片的series:\n",
      "b    2\n",
      "c    3\n",
      "d    4\n",
      "dtype: int64\n",
      "--------------------------------------------------------------------------------\n"
     ]
    }
   ],
   "source": [
    "# 指定索引创建 Series\n",
    "s = pd.Series([1, 2, 3, 4], index=['a', 'b', 'c', 'd'])\n",
    "print(s)\n",
    "print(\"-\"*80)\n",
    "# 获取值的两种不同方法\n",
    "# 位置索引（Positional Indexing）\n",
    "# 标签索引（Label Indexing）\n",
    "print(s[2], s[\"c\"])\n",
    "print(\"-\"*80)\n",
    "\n",
    "print(\"获取索引为1到3的切片的series:\")\n",
    "print(s[1:4])\n",
    "print(\"-\"*80)\n",
    "\n",
    "print(\"获取位置索引为1到3的切片的series:\")\n",
    "print(s.iloc[1:4])\n",
    "print(\"-\"*80)\n",
    "\n",
    "print(\"获取索引标签从b到d的切片的series:\")\n",
    "print(s.loc['b':'d'])\n",
    "print(\"-\"*80)"
   ]
  },
  {
   "cell_type": "markdown",
   "metadata": {},
   "source": [
    "如果只想要值的话，使用tolist()或者np.array()将其转换为列表"
   ]
  },
  {
   "cell_type": "code",
   "execution_count": 8,
   "metadata": {},
   "outputs": [
    {
     "name": "stdout",
     "output_type": "stream",
     "text": [
      "[1, 2, 3, 4]\n",
      "[1 2 3 4] (4,)\n"
     ]
    }
   ],
   "source": [
    "print(s.tolist())\n",
    "s_arr = np.array(s)\n",
    "print(s_arr, s_arr.shape)"
   ]
  },
  {
   "cell_type": "code",
   "execution_count": 9,
   "metadata": {},
   "outputs": [
    {
     "name": "stdout",
     "output_type": "stream",
     "text": [
      "Index: a, Value: 1\n",
      "Index: b, Value: 2\n",
      "Index: c, Value: 3\n",
      "Index: d, Value: 4\n"
     ]
    }
   ],
   "source": [
    "# 索引和值的对应关系\n",
    "for index, value in s.items():\n",
    "    print(f\"Index: {index}, Value: {value}\")"
   ]
  },
  {
   "cell_type": "markdown",
   "metadata": {},
   "source": [
    "在 Pandas 中，drop() 函数用于删除 DataFrame 或 Series 中的行或列。"
   ]
  },
  {
   "cell_type": "code",
   "execution_count": 10,
   "metadata": {},
   "outputs": [
    {
     "name": "stdout",
     "output_type": "stream",
     "text": [
      "b    2\n",
      "c    3\n",
      "d    4\n",
      "dtype: int64\n",
      "--------------------------------------------------------------------------------\n",
      "c    3\n",
      "d    4\n",
      "dtype: int64\n"
     ]
    }
   ],
   "source": [
    "# 使用 del 删除指定索引标签的元素。\n",
    "del s['a']  # 删除索引标签 'a' 对应的元素\n",
    "print(s)\n",
    "print(\"-\"*80)\n",
    "\n",
    "# 使用 drop 方法删除一个或多个索引标签，并返回一个新的 Series。\n",
    "s_dropped = s.drop(['b'])  # 返回一个删除了索引标签 'b' 的新 Series\n",
    "print(s_dropped)"
   ]
  },
  {
   "cell_type": "markdown",
   "metadata": {},
   "source": [
    "基本运算："
   ]
  },
  {
   "cell_type": "code",
   "execution_count": 11,
   "metadata": {},
   "outputs": [
    {
     "name": "stdout",
     "output_type": "stream",
     "text": [
      "0      4\n",
      "1     10\n",
      "2     16\n",
      "3    200\n",
      "4    124\n",
      "dtype: int64\n",
      "--------------------------------------------------------------------------------\n",
      "0      2\n",
      "1      5\n",
      "3    100\n",
      "dtype: int64\n",
      "--------------------------------------------------------------------------------\n",
      "0     1.414214\n",
      "1     2.236068\n",
      "2     2.828427\n",
      "3    10.000000\n",
      "4     7.874008\n",
      "dtype: float64\n"
     ]
    }
   ],
   "source": [
    "# 算术运算\n",
    "series = pd.Series([2, 5, 8, 100, 62])\n",
    "result = series * 2  # 所有元素乘以2\n",
    "print(result)\n",
    "print(\"-\"*80)\n",
    "\n",
    "# 过滤\n",
    "# 注意当你尝试在 Pandas Series 上执行条件判断时，Python 不知道如何将 Series 转换为单个布尔值，\n",
    "# 因此会抛出 ValueError: The truth value of a Series is ambiguous. 错误。\n",
    "# 为了避免这个错误\n",
    "# 使用| 而不是 or!!\n",
    "filtered_series = series[(series < 7) | (series == 100)]  # 选择大于2的元素\n",
    "print(filtered_series)\n",
    "print(\"-\"*80)\n",
    "\n",
    "# 数学函数\n",
    "result = np.sqrt(series)  # 对每个元素取平方根\n",
    "print(result)"
   ]
  },
  {
   "cell_type": "markdown",
   "metadata": {},
   "source": [
    "计算统计数据：使用 Series 的方法来计算描述性统计"
   ]
  },
  {
   "cell_type": "code",
   "execution_count": 12,
   "metadata": {},
   "outputs": [
    {
     "name": "stdout",
     "output_type": "stream",
     "text": [
      "the sum is 9\n",
      "the mean is 3.0\n",
      "the max is 4\n",
      "the min is 2\n",
      "the std is 1.0\n"
     ]
    }
   ],
   "source": [
    "print(\"the sum is {}\".format(s.sum()))  # 输出 Series 的总和\n",
    "print(\"the mean is {}\".format(s.mean()))  # 输出 Series 的平均值\n",
    "print(\"the max is {}\".format(s.max()))  # 输出 Series 的最大值\n",
    "print(\"the min is {}\".format(s.min()))  # 输出 Series 的最小值\n",
    "print(\"the std is {}\".format(s.std()))  # 输出 Series 的标准差"
   ]
  },
  {
   "cell_type": "markdown",
   "metadata": {},
   "source": [
    "属性和方法："
   ]
  },
  {
   "cell_type": "code",
   "execution_count": 13,
   "metadata": {},
   "outputs": [
    {
     "name": "stdout",
     "output_type": "stream",
     "text": [
      "int64\n",
      "(7,)\n",
      "7\n",
      "0      2\n",
      "1      5\n",
      "2      8\n",
      "3    100\n",
      "4     62\n",
      "dtype: int64\n",
      "2      8\n",
      "3    100\n",
      "4     62\n",
      "5     88\n",
      "6     74\n",
      "dtype: int64\n",
      "339\n",
      "48.42857142857143\n",
      "42.30782883760855\n",
      "2\n",
      "100\n"
     ]
    }
   ],
   "source": [
    "s = pd.Series([2, 5, 8, 100, 62, 88, 74])\n",
    "\n",
    "# 其他属性和方法\n",
    "print(s.dtype)   # 数据类型\n",
    "print(s.shape)   # 形状\n",
    "print(s.size)    # 元素个数\n",
    "print(s.head())  # 前几个元素，默认是前 5 个\n",
    "print(s.tail())  # 后几个元素，默认是后 5 个\n",
    "print(s.sum())   # 求和\n",
    "print(s.mean())  # 平均值\n",
    "print(s.std())   # 标准差\n",
    "print(s.min())   # 最小值\n",
    "print(s.max())   # 最大值"
   ]
  },
  {
   "cell_type": "markdown",
   "metadata": {},
   "source": [
    "转换数据类型：使用 astype 方法将 Series 转换为另一种数据类型。"
   ]
  },
  {
   "cell_type": "code",
   "execution_count": 14,
   "metadata": {},
   "outputs": [
    {
     "name": "stdout",
     "output_type": "stream",
     "text": [
      "0     True\n",
      "1     True\n",
      "2     True\n",
      "3    False\n",
      "4     True\n",
      "5    False\n",
      "6     True\n",
      "dtype: bool\n",
      "int64\n",
      "float64\n"
     ]
    }
   ],
   "source": [
    "print(s <= 80)\n",
    "print(s.dtype)\n",
    "s = s.astype('float64')  # 将 Series 中的所有元素转换为 float64 类型\n",
    "print(s.dtype)"
   ]
  },
  {
   "cell_type": "markdown",
   "metadata": {},
   "source": [
    "Pandas允许在一个DataFrame中包含不同的数据类型。每一列可以有自己的数据类型，而每一行可以由不同类型的列组成。\n",
    "\n",
    "Pandas允许你只转换一个列的数据类型。你可以使用astype方法来转换特定列的数据类型"
   ]
  },
  {
   "cell_type": "code",
   "execution_count": 15,
   "metadata": {},
   "outputs": [
    {
     "name": "stdout",
     "output_type": "stream",
     "text": [
      "   col0  col1 col2   col3\n",
      "0     1   1.1    a   True\n",
      "1     2   2.2    b  False\n",
      "2     3   3.3    c   True\n",
      "--------------------------------------------------------------------------------\n",
      "col0      int64\n",
      "col1    float64\n",
      "col2     object\n",
      "col3       bool\n",
      "dtype: object\n",
      "--------------------------------------------------------------------------------\n",
      "col0    float64\n",
      "col1    float64\n",
      "col2     object\n",
      "col3       bool\n",
      "dtype: object\n"
     ]
    }
   ],
   "source": [
    "data = {\n",
    "    'col0': [1, 2, 3],\n",
    "    'col1': [1.1, 2.2, 3.3],\n",
    "    'col2': ['a', 'b', 'c'],\n",
    "    'col3': [True, False, True]\n",
    "}\n",
    "\n",
    "df = pd.DataFrame(data)\n",
    "print(df)\n",
    "print(\"-\"*80)\n",
    "print(df.dtypes)\n",
    "print(\"-\"*80)\n",
    "df['col0'] = df['col0'].astype(float)\n",
    "print(df.dtypes)"
   ]
  },
  {
   "cell_type": "markdown",
   "metadata": {},
   "source": [
    "## Pandas 数据结构 - DataFrame\n",
    "DataFrame 是 Pandas 中的另一个核心数据结构，用于表示二维表格型数据。\n",
    "\n",
    "DataFrame 是一个表格型的数据结构，它含有一组有序的列，每列可以是不同的值类型（数值、字符串、布尔型值）。\n",
    "\n",
    "DataFrame 既有行索引也有列索引，它可以被看做由 Series 组成的字典（共同用一个索引）。\n",
    "\n",
    "DataFrame 提供了各种功能来进行数据访问、筛选、分割、合并、重塑、聚合以及转换等操作。"
   ]
  },
  {
   "cell_type": "code",
   "execution_count": 16,
   "metadata": {},
   "outputs": [
    {
     "name": "stdout",
     "output_type": "stream",
     "text": [
      "Site    object\n",
      "Age      int64\n",
      "dtype: object\n",
      "--------------------------------------------------------------------------------\n",
      "     Site   Age\n",
      "0  Google  10.0\n",
      "1  Runoob  12.0\n",
      "2    Wiki  13.0\n",
      "--------------------------------------------------------------------------------\n",
      "Site     object\n",
      "Age     float64\n",
      "dtype: object\n",
      "--------------------------------------------------------------------------------\n",
      "Google <class 'str'>\n"
     ]
    }
   ],
   "source": [
    "data = [['Google', 10], ['Runoob', 12], ['Wiki', 13]]\n",
    "\n",
    "# 创建DataFrame\n",
    "df = pd.DataFrame(data, columns=['Site', 'Age'])\n",
    "\n",
    "print(df.dtypes)\n",
    "\n",
    "# 使用astype方法设置每列的数据类型\n",
    "df['Site'] = df['Site'].astype(str)\n",
    "df['Age'] = df['Age'].astype(float)\n",
    "\n",
    "print(\"-\"*80)\n",
    "print(df)\n",
    "print(\"-\"*80)\n",
    "print(df.dtypes)\n",
    "print(\"-\"*80)\n",
    "print(df['Site'][0], type(df['Site'][0]))\n"
   ]
  },
  {
   "cell_type": "markdown",
   "metadata": {},
   "source": [
    "也可以使用字典来创建："
   ]
  },
  {
   "cell_type": "code",
   "execution_count": 17,
   "metadata": {},
   "outputs": [
    {
     "name": "stdout",
     "output_type": "stream",
     "text": [
      "     Site  Age\n",
      "0  Google   10\n",
      "1  Runoob   12\n",
      "2    Wiki   13\n"
     ]
    }
   ],
   "source": [
    "data = {'Site':['Google', 'Runoob', 'Wiki'], 'Age':[10, 12, 13]}\n",
    "df = pd.DataFrame(data)\n",
    "print(df)"
   ]
  },
  {
   "cell_type": "markdown",
   "metadata": {},
   "source": [
    "以下实例使用 ndarrays 创建，ndarray 的长度必须相同， 如果传递了 index，则索引的长度应等于数组的长度。如果没有传递索引，则默认情况下，索引将是range(n)，其中n是数组长度。"
   ]
  },
  {
   "cell_type": "code",
   "execution_count": 18,
   "metadata": {},
   "outputs": [
    {
     "name": "stdout",
     "output_type": "stream",
     "text": [
      "     Site Age\n",
      "0  Google  10\n",
      "1  Runoob  12\n",
      "2    Wiki  13\n"
     ]
    }
   ],
   "source": [
    "# 创建一个包含网站和年龄的二维ndarray\n",
    "ndarray_data = np.array([\n",
    "    ['Google', 10],\n",
    "    ['Runoob', 12],\n",
    "    ['Wiki', 13]\n",
    "])\n",
    "\n",
    "# 使用DataFrame构造函数创建数据帧\n",
    "df = pd.DataFrame(ndarray_data, columns=['Site', 'Age'])\n",
    "\n",
    "# 打印数据帧\n",
    "print(df)"
   ]
  },
  {
   "cell_type": "markdown",
   "metadata": {},
   "source": [
    "还可以使用字典（key/value），其中字典的 key 为列名:"
   ]
  },
  {
   "cell_type": "code",
   "execution_count": 19,
   "metadata": {},
   "outputs": [
    {
     "name": "stdout",
     "output_type": "stream",
     "text": [
      "   a   b     c\n",
      "0  1   2   NaN\n",
      "1  5  10  20.0\n"
     ]
    }
   ],
   "source": [
    "data = [{'a': 1, 'b': 2},{'a': 5, 'b': 10, 'c': 20}]\n",
    "df = pd.DataFrame(data)\n",
    "print (df)"
   ]
  },
  {
   "cell_type": "markdown",
   "metadata": {},
   "source": [
    "没有对应的部分数据为 NaN。\n",
    "\n",
    "Pandas 可以使用 loc 属性返回指定行的数据，如果没有设置索引，第一行索引为 0，第二行索引为 1，以此类推\n",
    "\n",
    "loc 是 location 的简写"
   ]
  },
  {
   "cell_type": "code",
   "execution_count": 20,
   "metadata": {},
   "outputs": [
    {
     "name": "stdout",
     "output_type": "stream",
     "text": [
      "   calories  duration\n",
      "0       420        50\n",
      "1       380        40\n",
      "2       390        45\n",
      "--------------------------------------------------------------------------------\n",
      "calories    420\n",
      "duration     50\n",
      "Name: 0, dtype: int64\n",
      "--------------------------------------------------------------------------------\n",
      "calories    380\n",
      "duration     40\n",
      "Name: 1, dtype: int64\n"
     ]
    }
   ],
   "source": [
    "data = {\n",
    "  \"calories\": [420, 380, 390],\n",
    "  \"duration\": [50, 40, 45]\n",
    "}\n",
    "\n",
    "# 数据载入到 DataFrame 对象\n",
    "df = pd.DataFrame(data)\n",
    "\n",
    "print(df)\n",
    "print(\"-\"*80)\n",
    "# 返回第一行\n",
    "print(df.loc[0])\n",
    "print(\"-\"*80)\n",
    "# 返回第二行\n",
    "print(df.loc[1])"
   ]
  },
  {
   "cell_type": "markdown",
   "metadata": {},
   "source": [
    "**注意**：返回结果其实就是一个 Pandas Series 数据。"
   ]
  },
  {
   "cell_type": "code",
   "execution_count": 21,
   "metadata": {},
   "outputs": [
    {
     "name": "stdout",
     "output_type": "stream",
     "text": [
      "   calories  duration\n",
      "0       420        50\n",
      "1       380        40\n"
     ]
    }
   ],
   "source": [
    "# 返回第一行和第二行\n",
    "print(df.loc[[0, 1]])"
   ]
  },
  {
   "cell_type": "markdown",
   "metadata": {},
   "source": [
    "**注意**：返回结果其实就是一个 Pandas DataFrame 数据。"
   ]
  },
  {
   "cell_type": "markdown",
   "metadata": {},
   "source": [
    "我们可以指定索引值，如下实例"
   ]
  },
  {
   "cell_type": "code",
   "execution_count": 22,
   "metadata": {},
   "outputs": [
    {
     "name": "stdout",
     "output_type": "stream",
     "text": [
      "      calories  duration\n",
      "day1       420        50\n",
      "day2       380        40\n",
      "day3       390        45\n",
      "--------------------------------------------------------------------------------\n",
      "wrong usage, the right way is:\n",
      "calories    380\n",
      "duration     40\n",
      "Name: day2, dtype: int64\n"
     ]
    }
   ],
   "source": [
    "df = pd.DataFrame(data, index = [\"day1\", \"day2\", \"day3\"])\n",
    "print(df)\n",
    "print(\"-\"*80)\n",
    "\n",
    "try:\n",
    "    print(df.loc[1])\n",
    "except KeyError:\n",
    "    print(\"wrong usage, the right way is:\")\n",
    "    print(df.loc[\"day2\"])\n"
   ]
  },
  {
   "cell_type": "code",
   "execution_count": 23,
   "metadata": {},
   "outputs": [
    {
     "name": "stdout",
     "output_type": "stream",
     "text": [
      "calories    380\n",
      "duration     40\n",
      "Name: day2, dtype: int64\n"
     ]
    }
   ],
   "source": [
    "# 通过行标签访问\n",
    "print(df.iloc[1])"
   ]
  },
  {
   "cell_type": "markdown",
   "metadata": {},
   "source": [
    "给df添加新列：给新列赋值\n",
    "添加新行：使用 loc、append 或 concat 方法"
   ]
  },
  {
   "cell_type": "code",
   "execution_count": 24,
   "metadata": {},
   "outputs": [
    {
     "name": "stdout",
     "output_type": "stream",
     "text": [
      "      calories  duration  NewColumn\n",
      "day1       420        50        100\n",
      "day2       380        40        200\n",
      "day3       390        45        300\n",
      "--------------------------------------------------------------------------------\n",
      "   calories  duration  NewColumn  Columdurationn2\n",
      "0       420      50.0        100              NaN\n",
      "1       380      40.0        200              NaN\n",
      "2       390      45.0        300              NaN\n",
      "3        13      14.0         16              NaN\n",
      "4       130       NaN        160            140.0\n"
     ]
    }
   ],
   "source": [
    "df = pd.DataFrame(data, index = [\"day1\", \"day2\", \"day3\"])\n",
    "\n",
    "df['NewColumn'] = [100, 200, 300]\n",
    "print(df)\n",
    "print(\"-\"*80)\n",
    "# 使用 loc 为特定索引添加新行\n",
    "df.loc[\"day4\"] = [13, 14, 16]\n",
    "\n",
    "# 使用 append 添加新行到末尾\n",
    "new_row = {'calories': [130], 'Columdurationn2': [140], 'NewColumn': [160]}\n",
    "df_new_row = pd.DataFrame(new_row)\n",
    "df = pd.concat([df, df_new_row], ignore_index=True)\n",
    "print(df)"
   ]
  },
  {
   "cell_type": "markdown",
   "metadata": {},
   "source": [
    "删除 DataFrame 元素\n",
    "\n",
    "删除列：使用 drop 方法\n",
    "\n",
    "删除行：同样使用 drop 方法\n",
    "\n",
    "drop默认axis=0,删除行。因此如果想要删除列需要指定axis=1"
   ]
  },
  {
   "cell_type": "code",
   "execution_count": 25,
   "metadata": {},
   "outputs": [
    {
     "name": "stdout",
     "output_type": "stream",
     "text": [
      "   calories  duration  NewColumn\n",
      "0       420      50.0        100\n",
      "1       380      40.0        200\n",
      "2       390      45.0        300\n",
      "3        13      14.0         16\n",
      "4       130       NaN        160\n",
      "--------------------------------------------------------------------------------\n",
      "   calories  duration  NewColumn\n",
      "0       420      50.0        100\n",
      "1       380      40.0        200\n",
      "2       390      45.0        300\n",
      "3        13      14.0         16\n"
     ]
    }
   ],
   "source": [
    "df_dropped = df.drop('Columdurationn2', axis=1)\n",
    "print(df_dropped)\n",
    "print(\"-\"*80)\n",
    "df_dropped = df_dropped.drop(4)\n",
    "print(df_dropped)"
   ]
  },
  {
   "cell_type": "markdown",
   "metadata": {},
   "source": [
    "**Pandas CSV 文件**\n",
    "\n",
    "Pandas 可以很方便的处理 CSV 文件，本文以 nba.csv 为例"
   ]
  },
  {
   "cell_type": "code",
   "execution_count": 26,
   "metadata": {},
   "outputs": [
    {
     "name": "stdout",
     "output_type": "stream",
     "text": [
      "                         Name                    Team  Number Position   Age Height  Weight                College      Salary\n",
      "0               Avery Bradley          Boston Celtics     0.0       PG  25.0    6-2   180.0                  Texas   7730337.0\n",
      "1                 Jae Crowder          Boston Celtics    99.0       SF  25.0    6-6   235.0              Marquette   6796117.0\n",
      "2                John Holland          Boston Celtics    30.0       SG  27.0    6-5   205.0      Boston University         NaN\n",
      "3                 R.J. Hunter          Boston Celtics    28.0       SG  22.0    6-5   185.0          Georgia State   1148640.0\n",
      "4               Jonas Jerebko          Boston Celtics     8.0       PF  29.0   6-10   231.0                    NaN   5000000.0\n",
      "5                Amir Johnson          Boston Celtics    90.0       PF  29.0    6-9   240.0                    NaN  12000000.0\n",
      "6               Jordan Mickey          Boston Celtics    55.0       PF  21.0    6-8   235.0                    LSU   1170960.0\n",
      "7                Kelly Olynyk          Boston Celtics    41.0        C  25.0    7-0   238.0                Gonzaga   2165160.0\n",
      "8                Terry Rozier          Boston Celtics    12.0       PG  22.0    6-2   190.0             Louisville   1824360.0\n",
      "9                Marcus Smart          Boston Celtics    36.0       PG  22.0    6-4   220.0         Oklahoma State   3431040.0\n",
      "10            Jared Sullinger          Boston Celtics     7.0        C  24.0    6-9   260.0             Ohio State   2569260.0\n",
      "11              Isaiah Thomas          Boston Celtics     4.0       PG  27.0    5-9   185.0             Washington   6912869.0\n",
      "12                Evan Turner          Boston Celtics    11.0       SG  27.0    6-7   220.0             Ohio State   3425510.0\n",
      "13                James Young          Boston Celtics    13.0       SG  20.0    6-6   215.0               Kentucky   1749840.0\n",
      "14               Tyler Zeller          Boston Celtics    44.0        C  26.0    7-0   253.0         North Carolina   2616975.0\n",
      "15           Bojan Bogdanovic           Brooklyn Nets    44.0       SG  27.0    6-8   216.0                    NaN   3425510.0\n",
      "16               Markel Brown           Brooklyn Nets    22.0       SG  24.0    6-3   190.0         Oklahoma State    845059.0\n",
      "17            Wayne Ellington           Brooklyn Nets    21.0       SG  28.0    6-4   200.0         North Carolina   1500000.0\n",
      "18    Rondae Hollis-Jefferson           Brooklyn Nets    24.0       SG  21.0    6-7   220.0                Arizona   1335480.0\n",
      "19               Jarrett Jack           Brooklyn Nets     2.0       PG  32.0    6-3   200.0           Georgia Tech   6300000.0\n",
      "20             Sergey Karasev           Brooklyn Nets    10.0       SG  22.0    6-7   208.0                    NaN   1599840.0\n",
      "21            Sean Kilpatrick           Brooklyn Nets     6.0       SG  26.0    6-4   219.0             Cincinnati    134215.0\n",
      "22               Shane Larkin           Brooklyn Nets     0.0       PG  23.0   5-11   175.0             Miami (FL)   1500000.0\n",
      "23                Brook Lopez           Brooklyn Nets    11.0        C  28.0    7-0   275.0               Stanford  19689000.0\n",
      "24           Chris McCullough           Brooklyn Nets     1.0       PF  21.0   6-11   200.0               Syracuse   1140240.0\n",
      "25                Willie Reed           Brooklyn Nets    33.0       PF  26.0   6-10   220.0            Saint Louis    947276.0\n",
      "26            Thomas Robinson           Brooklyn Nets    41.0       PF  25.0   6-10   237.0                 Kansas    981348.0\n",
      "27                 Henry Sims           Brooklyn Nets    14.0        C  26.0   6-10   248.0             Georgetown    947276.0\n",
      "28               Donald Sloan           Brooklyn Nets    15.0       PG  28.0    6-3   205.0              Texas A&M    947276.0\n",
      "29             Thaddeus Young           Brooklyn Nets    30.0       PF  27.0    6-8   221.0           Georgia Tech  11235955.0\n",
      "30              Arron Afflalo         New York Knicks     4.0       SG  30.0    6-5   210.0                   UCLA   8000000.0\n",
      "31               Lou Amundson         New York Knicks    17.0       PF  33.0    6-9   220.0                   UNLV   1635476.0\n",
      "32     Thanasis Antetokounmpo         New York Knicks    43.0       SF  23.0    6-7   205.0                    NaN     30888.0\n",
      "33            Carmelo Anthony         New York Knicks     7.0       SF  32.0    6-8   240.0               Syracuse  22875000.0\n",
      "34              Jose Calderon         New York Knicks     3.0       PG  34.0    6-3   200.0                    NaN   7402812.0\n",
      "35           Cleanthony Early         New York Knicks    11.0       SF  25.0    6-8   210.0          Wichita State    845059.0\n",
      "36          Langston Galloway         New York Knicks     2.0       SG  24.0    6-2   200.0         Saint Joseph's    845059.0\n",
      "37               Jerian Grant         New York Knicks    13.0       PG  23.0    6-4   195.0             Notre Dame   1572360.0\n",
      "38                Robin Lopez         New York Knicks     8.0        C  28.0    7-0   255.0               Stanford  12650000.0\n",
      "39               Kyle O'Quinn         New York Knicks     9.0       PF  26.0   6-10   250.0          Norfolk State   3750000.0\n",
      "40         Kristaps Porzingis         New York Knicks     6.0       PF  20.0    7-3   240.0                    NaN   4131720.0\n",
      "41             Kevin Seraphin         New York Knicks     1.0        C  26.0   6-10   278.0                    NaN   2814000.0\n",
      "42               Lance Thomas         New York Knicks    42.0       SF  28.0    6-8   235.0                   Duke   1636842.0\n",
      "43              Sasha Vujacic         New York Knicks    18.0       SG  32.0    6-7   195.0                    NaN    947276.0\n",
      "44           Derrick Williams         New York Knicks    23.0       PF  25.0    6-8   240.0                Arizona   4000000.0\n",
      "45                Tony Wroten         New York Knicks     5.0       SG  23.0    6-6   205.0             Washington    167406.0\n",
      "46                Elton Brand      Philadelphia 76ers    42.0       PF  37.0    6-9   254.0                   Duke         NaN\n",
      "47              Isaiah Canaan      Philadelphia 76ers     0.0       PG  25.0    6-0   201.0           Murray State    947276.0\n",
      "48           Robert Covington      Philadelphia 76ers    33.0       SF  25.0    6-9   215.0        Tennessee State   1000000.0\n",
      "49                Joel Embiid      Philadelphia 76ers    21.0        C  22.0    7-0   250.0                 Kansas   4626960.0\n",
      "50               Jerami Grant      Philadelphia 76ers    39.0       SF  22.0    6-8   210.0               Syracuse    845059.0\n",
      "51             Richaun Holmes      Philadelphia 76ers    22.0       PF  22.0   6-10   245.0          Bowling Green   1074169.0\n",
      "52                Carl Landry      Philadelphia 76ers     7.0       PF  32.0    6-9   248.0                 Purdue   6500000.0\n",
      "53           Kendall Marshall      Philadelphia 76ers     5.0       PG  24.0    6-4   200.0         North Carolina   2144772.0\n",
      "54             T.J. McConnell      Philadelphia 76ers    12.0       PG  24.0    6-2   200.0                Arizona    525093.0\n",
      "55               Nerlens Noel      Philadelphia 76ers     4.0       PF  22.0   6-11   228.0               Kentucky   3457800.0\n",
      "56              Jahlil Okafor      Philadelphia 76ers     8.0        C  20.0   6-11   275.0                   Duke   4582680.0\n",
      "57                  Ish Smith      Philadelphia 76ers     1.0       PG  27.0    6-0   175.0            Wake Forest    947276.0\n",
      "58               Nik Stauskas      Philadelphia 76ers    11.0       SG  22.0    6-6   205.0               Michigan   2869440.0\n",
      "59            Hollis Thompson      Philadelphia 76ers    31.0       SG  25.0    6-8   206.0             Georgetown    947276.0\n",
      "60             Christian Wood      Philadelphia 76ers    35.0       PF  20.0   6-11   220.0                   UNLV    525093.0\n",
      "61            Bismack Biyombo         Toronto Raptors     8.0        C  23.0    6-9   245.0                    NaN   2814000.0\n",
      "62              Bruno Caboclo         Toronto Raptors    20.0       SF  20.0    6-9   205.0                    NaN   1524000.0\n",
      "63            DeMarre Carroll         Toronto Raptors     5.0       SF  29.0    6-8   212.0               Missouri  13600000.0\n",
      "64              DeMar DeRozan         Toronto Raptors    10.0       SG  26.0    6-7   220.0                    USC  10050000.0\n",
      "65              James Johnson         Toronto Raptors     3.0       PF  29.0    6-9   250.0            Wake Forest   2500000.0\n",
      "66                Cory Joseph         Toronto Raptors     6.0       PG  24.0    6-3   190.0                  Texas   7000000.0\n",
      "67                 Kyle Lowry         Toronto Raptors     7.0       PG  30.0    6-0   205.0              Villanova  12000000.0\n",
      "68             Lucas Nogueira         Toronto Raptors    92.0        C  23.0    7-0   220.0                    NaN   1842000.0\n",
      "69          Patrick Patterson         Toronto Raptors    54.0       PF  27.0    6-9   235.0               Kentucky   6268675.0\n",
      "70              Norman Powell         Toronto Raptors    24.0       SG  23.0    6-4   215.0                   UCLA    650000.0\n",
      "71              Terrence Ross         Toronto Raptors    31.0       SF  25.0    6-7   195.0             Washington   3553917.0\n",
      "72                 Luis Scola         Toronto Raptors     4.0       PF  36.0    6-9   240.0                    NaN   2900000.0\n",
      "73             Jason Thompson         Toronto Raptors     1.0       PF  29.0   6-11   250.0                  Rider    245177.0\n",
      "74          Jonas Valanciunas         Toronto Raptors    17.0        C  24.0    7-0   255.0                    NaN   4660482.0\n",
      "75               Delon Wright         Toronto Raptors    55.0       PG  24.0    6-5   190.0                   Utah   1509360.0\n",
      "76            Leandro Barbosa   Golden State Warriors    19.0       SG  33.0    6-3   194.0                    NaN   2500000.0\n",
      "77            Harrison Barnes   Golden State Warriors    40.0       SF  24.0    6-8   225.0         North Carolina   3873398.0\n",
      "78               Andrew Bogut   Golden State Warriors    12.0        C  31.0    7-0   260.0                   Utah  13800000.0\n",
      "79                  Ian Clark   Golden State Warriors    21.0       SG  25.0    6-3   175.0                Belmont    947276.0\n",
      "80              Stephen Curry   Golden State Warriors    30.0       PG  28.0    6-3   190.0               Davidson  11370786.0\n",
      "81               Festus Ezeli   Golden State Warriors    31.0        C  26.0   6-11   265.0             Vanderbilt   2008748.0\n",
      "82             Draymond Green   Golden State Warriors    23.0       PF  26.0    6-7   230.0         Michigan State  14260870.0\n",
      "83             Andre Iguodala   Golden State Warriors     9.0       SF  32.0    6-6   215.0                Arizona  11710456.0\n",
      "84           Shaun Livingston   Golden State Warriors    34.0       PG  30.0    6-7   192.0                    NaN   5543725.0\n",
      "85               Kevon Looney   Golden State Warriors    36.0       SF  20.0    6-9   220.0                   UCLA   1131960.0\n",
      "86       James Michael McAdoo   Golden State Warriors    20.0       SF  23.0    6-9   240.0         North Carolina    845059.0\n",
      "87               Brandon Rush   Golden State Warriors     4.0       SF  30.0    6-6   220.0                 Kansas   1270964.0\n",
      "88          Marreese Speights   Golden State Warriors     5.0        C  28.0   6-10   255.0                Florida   3815000.0\n",
      "89              Klay Thompson   Golden State Warriors    11.0       SG  26.0    6-7   215.0       Washington State  15501000.0\n",
      "90           Anderson Varejao   Golden State Warriors    18.0       PF  33.0   6-11   273.0                    NaN    289755.0\n",
      "91               Cole Aldrich    Los Angeles Clippers    45.0        C  27.0   6-11   250.0                 Kansas   1100602.0\n",
      "92                 Jeff Ayres    Los Angeles Clippers    19.0       PF  29.0    6-9   250.0          Arizona State    111444.0\n",
      "93             Jamal Crawford    Los Angeles Clippers    11.0       SG  36.0    6-5   195.0               Michigan   5675000.0\n",
      "94             Branden Dawson    Los Angeles Clippers    22.0       SF  23.0    6-6   225.0         Michigan State    525093.0\n",
      "95                 Jeff Green    Los Angeles Clippers     8.0       SF  29.0    6-9   235.0             Georgetown   9650000.0\n",
      "96              Blake Griffin    Los Angeles Clippers    32.0       PF  27.0   6-10   251.0               Oklahoma  18907726.0\n",
      "97             Wesley Johnson    Los Angeles Clippers    33.0       SF  28.0    6-7   215.0               Syracuse   1100602.0\n",
      "98             DeAndre Jordan    Los Angeles Clippers     6.0        C  27.0   6-11   265.0              Texas A&M  19689000.0\n",
      "99   Luc Richard Mbah a Moute    Los Angeles Clippers    12.0       PF  29.0    6-8   230.0                   UCLA    947276.0\n",
      "100                Chris Paul    Los Angeles Clippers     3.0       PG  31.0    6-0   175.0            Wake Forest  21468695.0\n",
      "101               Paul Pierce    Los Angeles Clippers    34.0       SF  38.0    6-7   235.0                 Kansas   3376000.0\n",
      "102            Pablo Prigioni    Los Angeles Clippers     9.0       PG  39.0    6-3   185.0                    NaN    947726.0\n",
      "103                 JJ Redick    Los Angeles Clippers     4.0       SG  31.0    6-4   190.0                   Duke   7085000.0\n",
      "104             Austin Rivers    Los Angeles Clippers    25.0       PG  23.0    6-4   200.0                   Duke   3110796.0\n",
      "105               C.J. Wilcox    Los Angeles Clippers    30.0       SG  25.0    6-5   195.0             Washington   1159680.0\n",
      "106              Brandon Bass      Los Angeles Lakers     2.0       PF  31.0    6-8   250.0                    LSU   3000000.0\n",
      "107               Tarik Black      Los Angeles Lakers    28.0        C  24.0    6-9   250.0                 Kansas    845059.0\n",
      "108             Anthony Brown      Los Angeles Lakers     3.0       SF  23.0    6-7   210.0               Stanford    700000.0\n",
      "109               Kobe Bryant      Los Angeles Lakers    24.0       SF  37.0    6-6   212.0                    NaN  25000000.0\n",
      "110           Jordan Clarkson      Los Angeles Lakers     6.0       PG  24.0    6-5   194.0               Missouri    845059.0\n",
      "111               Roy Hibbert      Los Angeles Lakers    17.0        C  29.0    7-2   270.0             Georgetown  15592217.0\n",
      "112           Marcelo Huertas      Los Angeles Lakers     9.0       PG  33.0    6-3   200.0                    NaN    525093.0\n",
      "113                Ryan Kelly      Los Angeles Lakers     4.0       PF  25.0   6-11   230.0                   Duke   1724250.0\n",
      "114           Larry Nance Jr.      Los Angeles Lakers     7.0       PF  23.0    6-9   230.0                Wyoming   1155600.0\n",
      "115             Julius Randle      Los Angeles Lakers    30.0       PF  21.0    6-9   250.0               Kentucky   3132240.0\n",
      "116          D'Angelo Russell      Los Angeles Lakers     1.0       PG  20.0    6-5   195.0             Ohio State   5103120.0\n",
      "117              Robert Sacre      Los Angeles Lakers    50.0        C  27.0    7-0   270.0                Gonzaga    981348.0\n",
      "118            Louis Williams      Los Angeles Lakers    23.0       SG  29.0    6-1   175.0                    NaN   7000000.0\n",
      "119         Metta World Peace      Los Angeles Lakers    37.0       SF  36.0    6-7   260.0             St. John's    947276.0\n",
      "120                Nick Young      Los Angeles Lakers     0.0       SF  31.0    6-7   210.0                    USC   5219169.0\n",
      "121              Eric Bledsoe            Phoenix Suns     2.0       PG  26.0    6-1   190.0               Kentucky  13500000.0\n",
      "122              Devin Booker            Phoenix Suns     1.0       SG  19.0    6-6   206.0               Kentucky   2127840.0\n",
      "123            Chase Budinger            Phoenix Suns    10.0       SF  28.0    6-7   209.0                Arizona    206192.0\n",
      "124            Tyson Chandler            Phoenix Suns     4.0        C  33.0    7-1   240.0                    NaN  13000000.0\n",
      "125            Archie Goodwin            Phoenix Suns    20.0       SG  21.0    6-5   200.0               Kentucky   1160160.0\n",
      "126              John Jenkins            Phoenix Suns    23.0       SG  25.0    6-4   215.0             Vanderbilt    981348.0\n",
      "127            Brandon Knight            Phoenix Suns     3.0       PG  24.0    6-3   189.0               Kentucky  13500000.0\n",
      "128                  Alex Len            Phoenix Suns    21.0        C  22.0    7-1   260.0               Maryland   3807120.0\n",
      "129                 Jon Leuer            Phoenix Suns    30.0       PF  27.0   6-10   228.0              Wisconsin   1035000.0\n",
      "130              Phil Pressey            Phoenix Suns    25.0       PG  25.0   5-11   175.0               Missouri     55722.0\n",
      "131              Ronnie Price            Phoenix Suns    14.0       PG  32.0    6-2   190.0            Utah Valley    947276.0\n",
      "132           Mirza Teletovic            Phoenix Suns    35.0       PF  30.0    6-9   242.0                    NaN   5500000.0\n",
      "133               P.J. Tucker            Phoenix Suns    17.0       SF  31.0    6-6   245.0                  Texas   5500000.0\n",
      "134               T.J. Warren            Phoenix Suns    12.0       SF  22.0    6-8   230.0   North Carolina State   2041080.0\n",
      "135             Alan Williams            Phoenix Suns    15.0        C  23.0    6-8   260.0       UC Santa Barbara     83397.0\n",
      "136                Quincy Acy        Sacramento Kings    13.0       SF  25.0    6-7   240.0                 Baylor    981348.0\n",
      "137            James Anderson        Sacramento Kings     5.0       SG  27.0    6-6   213.0         Oklahoma State   1015421.0\n",
      "138           Marco Belinelli        Sacramento Kings     3.0       SG  30.0    6-5   210.0                    NaN   6060606.0\n",
      "139              Caron Butler        Sacramento Kings    31.0       SF  36.0    6-7   228.0            Connecticut   1449187.0\n",
      "140               Omri Casspi        Sacramento Kings    18.0       SF  27.0    6-9   225.0                    NaN   2836186.0\n",
      "141       Willie Cauley-Stein        Sacramento Kings     0.0        C  22.0    7-0   240.0               Kentucky   3398280.0\n",
      "142           Darren Collison        Sacramento Kings     7.0       PG  28.0    6-0   175.0                   UCLA   5013559.0\n",
      "143          DeMarcus Cousins        Sacramento Kings    15.0        C  25.0   6-11   270.0               Kentucky  15851950.0\n",
      "144                Seth Curry        Sacramento Kings    30.0       SG  25.0    6-2   185.0                   Duke    947276.0\n",
      "145                Duje Dukan        Sacramento Kings    26.0       PF  24.0    6-9   220.0              Wisconsin    525093.0\n",
      "146                  Rudy Gay        Sacramento Kings     8.0       SF  29.0    6-8   230.0            Connecticut  12403101.0\n",
      "147              Kosta Koufos        Sacramento Kings    41.0        C  27.0    7-0   265.0             Ohio State   7700000.0\n",
      "148              Ben McLemore        Sacramento Kings    23.0       SG  23.0    6-5   195.0                 Kansas   3156600.0\n",
      "149             Eric Moreland        Sacramento Kings    25.0       PF  24.0   6-10   238.0           Oregon State    845059.0\n",
      "150               Rajon Rondo        Sacramento Kings     9.0       PG  30.0    6-1   186.0               Kentucky   9500000.0\n",
      "151          Cameron Bairstow           Chicago Bulls    41.0       PF  25.0    6-9   250.0             New Mexico    845059.0\n",
      "152              Aaron Brooks           Chicago Bulls     0.0       PG  31.0    6-0   161.0                 Oregon   2250000.0\n",
      "153              Jimmy Butler           Chicago Bulls    21.0       SG  26.0    6-7   220.0              Marquette  16407500.0\n",
      "154             Mike Dunleavy           Chicago Bulls    34.0       SG  35.0    6-9   230.0                   Duke   4500000.0\n",
      "155         Cristiano Felicio           Chicago Bulls     6.0       PF  23.0   6-10   275.0                    NaN    525093.0\n",
      "156                 Pau Gasol           Chicago Bulls    16.0        C  35.0    7-0   250.0                    NaN   7448760.0\n",
      "157                Taj Gibson           Chicago Bulls    22.0       PF  30.0    6-9   225.0                    USC   8500000.0\n",
      "158            Justin Holiday           Chicago Bulls     7.0       SG  27.0    6-6   185.0             Washington    947276.0\n",
      "159            Doug McDermott           Chicago Bulls     3.0       SF  24.0    6-8   225.0              Creighton   2380440.0\n",
      "160            Nikola Mirotic           Chicago Bulls    44.0       PF  25.0   6-10   220.0                    NaN   5543725.0\n",
      "161             E'Twaun Moore           Chicago Bulls    55.0       SG  27.0    6-4   191.0                 Purdue   1015421.0\n",
      "162               Joakim Noah           Chicago Bulls    13.0        C  31.0   6-11   232.0                Florida  13400000.0\n",
      "163              Bobby Portis           Chicago Bulls     5.0       PF  21.0   6-11   230.0               Arkansas   1391160.0\n",
      "164              Derrick Rose           Chicago Bulls     1.0       PG  27.0    6-3   190.0                Memphis  20093064.0\n",
      "165                Tony Snell           Chicago Bulls    20.0       SF  24.0    6-7   200.0             New Mexico   1535880.0\n",
      "166       Matthew Dellavedova     Cleveland Cavaliers     8.0       PG  25.0    6-4   198.0           Saint Mary's   1147276.0\n",
      "167             Channing Frye     Cleveland Cavaliers     9.0       PF  33.0   6-11   255.0                Arizona   8193029.0\n",
      "168              Kyrie Irving     Cleveland Cavaliers     2.0       PG  24.0    6-3   193.0                   Duke  16407501.0\n",
      "169              LeBron James     Cleveland Cavaliers    23.0       SF  31.0    6-8   250.0                    NaN  22970500.0\n",
      "170         Richard Jefferson     Cleveland Cavaliers    24.0       SF  35.0    6-7   233.0                Arizona    947276.0\n",
      "171             Dahntay Jones     Cleveland Cavaliers    30.0       SG  35.0    6-6   225.0                   Duke         NaN\n",
      "172               James Jones     Cleveland Cavaliers     1.0       SG  35.0    6-8   218.0             Miami (FL)    947276.0\n",
      "173                Sasha Kaun     Cleveland Cavaliers    14.0        C  31.0   6-11   260.0                 Kansas   1276000.0\n",
      "174                Kevin Love     Cleveland Cavaliers     0.0       PF  27.0   6-10   251.0                   UCLA  19689000.0\n",
      "175              Jordan McRae     Cleveland Cavaliers    12.0       SG  25.0    6-5   179.0              Tennessee    111196.0\n",
      "176            Timofey Mozgov     Cleveland Cavaliers    20.0        C  29.0    7-1   275.0                    NaN   4950000.0\n",
      "177             Iman Shumpert     Cleveland Cavaliers     4.0       SG  25.0    6-5   220.0           Georgia Tech   8988765.0\n",
      "178                J.R. Smith     Cleveland Cavaliers     5.0       SG  30.0    6-6   225.0                    NaN   5000000.0\n",
      "179          Tristan Thompson     Cleveland Cavaliers    13.0        C  25.0    6-9   238.0                  Texas  14260870.0\n",
      "180               Mo Williams     Cleveland Cavaliers    52.0       PG  33.0    6-1   198.0                Alabama   2100000.0\n",
      "181              Joel Anthony         Detroit Pistons    50.0        C  33.0    6-9   245.0                   UNLV   2500000.0\n",
      "182               Aron Baynes         Detroit Pistons    12.0        C  29.0   6-10   260.0       Washington State   6500000.0\n",
      "183               Steve Blake         Detroit Pistons    22.0       PG  36.0    6-3   172.0               Maryland   2170465.0\n",
      "184             Lorenzo Brown         Detroit Pistons    17.0       PG  25.0    6-5   189.0   North Carolina State    111444.0\n",
      "185            Reggie Bullock         Detroit Pistons    25.0       SF  25.0    6-7   205.0         North Carolina   1252440.0\n",
      "186  Kentavious Caldwell-Pope         Detroit Pistons     5.0       SG  23.0    6-5   205.0                Georgia   2891760.0\n",
      "187         Spencer Dinwiddie         Detroit Pistons     8.0       PG  23.0    6-6   200.0               Colorado    845059.0\n",
      "188            Andre Drummond         Detroit Pistons     0.0        C  22.0   6-11   279.0            Connecticut   3272091.0\n",
      "189             Tobias Harris         Detroit Pistons    34.0       SF  23.0    6-9   235.0              Tennessee  16000000.0\n",
      "190           Darrun Hilliard         Detroit Pistons     6.0       SF  23.0    6-6   205.0              Villanova    600000.0\n",
      "191            Reggie Jackson         Detroit Pistons     1.0       PG  26.0    6-3   208.0         Boston College  13913044.0\n",
      "192           Stanley Johnson         Detroit Pistons     3.0       SF  20.0    6-7   245.0                Arizona   2841960.0\n",
      "193               Jodie Meeks         Detroit Pistons    20.0       SG  28.0    6-4   210.0               Kentucky   6270000.0\n",
      "194             Marcus Morris         Detroit Pistons    13.0       PF  26.0    6-9   235.0                 Kansas   5000000.0\n",
      "195          Anthony Tolliver         Detroit Pistons    43.0       PF  31.0    6-8   240.0              Creighton   3000000.0\n",
      "196               Lavoy Allen          Indiana Pacers     5.0       PF  27.0    6-9   255.0                 Temple   4050000.0\n",
      "197          Rakeem Christmas          Indiana Pacers    25.0       PF  24.0    6-9   250.0               Syracuse   1007026.0\n",
      "198               Monta Ellis          Indiana Pacers    11.0       SG  30.0    6-3   185.0                    NaN  10300000.0\n",
      "199               Paul George          Indiana Pacers    13.0       SF  26.0    6-9   220.0           Fresno State  17120106.0\n",
      "200               George Hill          Indiana Pacers     3.0       PG  30.0    6-3   188.0                  IUPUI   8000000.0\n",
      "201               Jordan Hill          Indiana Pacers    27.0        C  28.0   6-10   235.0                Arizona   4000000.0\n",
      "202              Solomon Hill          Indiana Pacers    44.0       SF  25.0    6-7   225.0                Arizona   1358880.0\n",
      "203                 Ty Lawson          Indiana Pacers    10.0       PG  28.0   5-11   195.0         North Carolina    211744.0\n",
      "204               Ian Mahinmi          Indiana Pacers    28.0        C  29.0   6-11   250.0                    NaN   4000000.0\n",
      "205                C.J. Miles          Indiana Pacers     0.0       SF  29.0    6-6   231.0                    NaN   4394225.0\n",
      "206        Glenn Robinson III          Indiana Pacers    40.0       SG  22.0    6-7   222.0               Michigan   1100000.0\n",
      "207            Rodney Stuckey          Indiana Pacers     2.0       PG  30.0    6-5   205.0     Eastern Washington   7000000.0\n",
      "208              Myles Turner          Indiana Pacers    33.0       PF  20.0   6-11   243.0                  Texas   2357760.0\n",
      "209        Shayne Whittington          Indiana Pacers    42.0       PF  25.0   6-11   250.0       Western Michigan    845059.0\n",
      "210                 Joe Young          Indiana Pacers     1.0       PG  23.0    6-2   180.0                 Oregon   1007026.0\n",
      "211     Giannis Antetokounmpo         Milwaukee Bucks    34.0       SF  21.0   6-11   222.0                    NaN   1953960.0\n",
      "212            Jerryd Bayless         Milwaukee Bucks    19.0       PG  27.0    6-3   200.0                Arizona   3000000.0\n",
      "213   Michael Carter-Williams         Milwaukee Bucks     5.0       PG  24.0    6-6   190.0               Syracuse   2399040.0\n",
      "214          Jared Cunningham         Milwaukee Bucks     9.0       SG  25.0    6-4   195.0           Oregon State    947276.0\n",
      "215               Tyler Ennis         Milwaukee Bucks    11.0       PG  21.0    6-3   194.0               Syracuse   1662360.0\n",
      "216               John Henson         Milwaukee Bucks    31.0       PF  25.0   6-11   229.0         North Carolina   2943221.0\n",
      "217             Damien Inglis         Milwaukee Bucks    17.0       SF  21.0    6-8   246.0                    NaN    855000.0\n",
      "218                 O.J. Mayo         Milwaukee Bucks     3.0       SG  28.0    6-5   210.0                    USC   8000000.0\n",
      "219           Khris Middleton         Milwaukee Bucks    22.0       SG  24.0    6-8   234.0              Texas A&M  14700000.0\n",
      "220               Greg Monroe         Milwaukee Bucks    15.0        C  26.0   6-11   265.0             Georgetown  16407500.0\n",
      "221               Steve Novak         Milwaukee Bucks     6.0       SF  32.0   6-10   225.0              Marquette    295327.0\n",
      "222       Johnny O'Bryant III         Milwaukee Bucks    77.0       PF  23.0    6-9   257.0                    LSU    845059.0\n",
      "223             Jabari Parker         Milwaukee Bucks    12.0       PF  21.0    6-8   250.0                   Duke   5152440.0\n",
      "224             Miles Plumlee         Milwaukee Bucks    18.0        C  27.0   6-11   249.0                   Duke   2109294.0\n",
      "225           Greivis Vasquez         Milwaukee Bucks    21.0       PG  29.0    6-6   217.0               Maryland   6600000.0\n",
      "226             Rashad Vaughn         Milwaukee Bucks    20.0       SG  19.0    6-6   202.0                   UNLV   1733040.0\n",
      "227           Justin Anderson        Dallas Mavericks     1.0       SG  22.0    6-6   228.0               Virginia   1449000.0\n",
      "228                J.J. Barea        Dallas Mavericks     5.0       PG  31.0    6-0   185.0           Northeastern   4290000.0\n",
      "229              Jeremy Evans        Dallas Mavericks    21.0       SF  28.0    6-9   200.0       Western Kentucky   1100602.0\n",
      "230            Raymond Felton        Dallas Mavericks     2.0       PG  31.0    6-1   205.0         North Carolina   3950313.0\n",
      "231              Devin Harris        Dallas Mavericks    34.0       PG  33.0    6-3   185.0              Wisconsin   4053446.0\n",
      "232                 David Lee        Dallas Mavericks    42.0       PF  33.0    6-9   245.0                Florida   2085671.0\n",
      "233           Wesley Matthews        Dallas Mavericks    23.0       SG  29.0    6-5   220.0              Marquette  16407500.0\n",
      "234              JaVale McGee        Dallas Mavericks    11.0        C  28.0    7-0   270.0                 Nevada   1270964.0\n",
      "235               Salah Mejri        Dallas Mavericks    50.0        C  29.0    7-2   245.0                    NaN    525093.0\n",
      "236             Dirk Nowitzki        Dallas Mavericks    41.0       PF  37.0    7-0   245.0                    NaN   8333334.0\n",
      "237             Zaza Pachulia        Dallas Mavericks    27.0        C  32.0   6-11   275.0                    NaN   5200000.0\n",
      "238          Chandler Parsons        Dallas Mavericks    25.0       SF  27.0   6-10   230.0                Florida  15361500.0\n",
      "239             Dwight Powell        Dallas Mavericks     7.0       PF  24.0   6-11   240.0               Stanford    845059.0\n",
      "240        Charlie Villanueva        Dallas Mavericks     3.0       PF  31.0   6-11   232.0            Connecticut    947276.0\n",
      "241            Deron Williams        Dallas Mavericks     8.0       PG  31.0    6-3   200.0               Illinois   5378974.0\n",
      "242              Trevor Ariza         Houston Rockets     1.0       SF  30.0    6-8   215.0                   UCLA   8193030.0\n",
      "243           Michael Beasley         Houston Rockets     8.0       SF  27.0   6-10   235.0           Kansas State    306527.0\n",
      "244          Patrick Beverley         Houston Rockets     2.0       PG  27.0    6-1   185.0               Arkansas   6486486.0\n",
      "245              Corey Brewer         Houston Rockets    33.0       SG  30.0    6-9   186.0                Florida   8229375.0\n",
      "246              Clint Capela         Houston Rockets    15.0       PF  22.0   6-10   240.0                    NaN   1242720.0\n",
      "247                Sam Dekker         Houston Rockets     7.0       SF  22.0    6-9   230.0              Wisconsin   1646400.0\n",
      "248          Andrew Goudelock         Houston Rockets     0.0       PG  27.0    6-3   200.0             Charleston    200600.0\n",
      "249              James Harden         Houston Rockets    13.0       SG  26.0    6-5   220.0          Arizona State  15756438.0\n",
      "250          Montrezl Harrell         Houston Rockets    35.0       PF  22.0    6-8   240.0             Louisville   1000000.0\n",
      "251             Dwight Howard         Houston Rockets    12.0        C  30.0   6-11   265.0                    NaN  22359364.0\n",
      "252            Terrence Jones         Houston Rockets     6.0       PF  24.0    6-9   252.0               Kentucky   2489530.0\n",
      "253            K.J. McDaniels         Houston Rockets    32.0       SG  23.0    6-6   205.0                Clemson   3189794.0\n",
      "254        Donatas Motiejunas         Houston Rockets    20.0       PF  25.0    7-0   222.0                    NaN   2288205.0\n",
      "255                Josh Smith         Houston Rockets     5.0        C  30.0    6-9   225.0                    NaN    947276.0\n",
      "256               Jason Terry         Houston Rockets    31.0       SG  38.0    6-2   185.0                Arizona    947276.0\n",
      "257              Jordan Adams       Memphis Grizzlies     3.0       SG  21.0    6-5   209.0                   UCLA   1404600.0\n",
      "258                Tony Allen       Memphis Grizzlies     9.0       SG  34.0    6-4   213.0         Oklahoma State   5158539.0\n",
      "259            Chris Andersen       Memphis Grizzlies     7.0       PF  37.0   6-10   245.0          Blinn College   5000000.0\n",
      "260               Matt Barnes       Memphis Grizzlies    22.0       SF  36.0    6-7   226.0                   UCLA   3542500.0\n",
      "261              Vince Carter       Memphis Grizzlies    15.0       SG  39.0    6-6   220.0         North Carolina   4088019.0\n",
      "262               Mike Conley       Memphis Grizzlies    11.0       PG  28.0    6-1   175.0             Ohio State   9588426.0\n",
      "263              Bryce Cotton       Memphis Grizzlies     8.0       PG  23.0    6-1   165.0             Providence    700902.0\n",
      "264             Jordan Farmar       Memphis Grizzlies     4.0       PG  29.0    6-2   180.0                   UCLA         NaN\n",
      "265                Marc Gasol       Memphis Grizzlies    33.0        C  31.0    7-1   255.0                    NaN  19688000.0\n",
      "266            JaMychal Green       Memphis Grizzlies     0.0       PF  25.0    6-9   227.0                Alabama    845059.0\n",
      "267             P.J. Hairston       Memphis Grizzlies    19.0       SF  23.0    6-6   230.0         North Carolina   1201440.0\n",
      "268             Jarell Martin       Memphis Grizzlies    10.0       PF  22.0   6-10   239.0                    LSU   1230840.0\n",
      "269              Ray McCallum       Memphis Grizzlies     5.0       PG  24.0    6-3   190.0                Detroit         NaN\n",
      "270            Xavier Munford       Memphis Grizzlies    14.0       PG  24.0    6-3   180.0           Rhode Island         NaN\n",
      "271             Zach Randolph       Memphis Grizzlies    50.0       PF  34.0    6-9   260.0         Michigan State   9638555.0\n",
      "272          Lance Stephenson       Memphis Grizzlies     1.0       SF  25.0    6-5   230.0             Cincinnati   9000000.0\n",
      "273            Alex Stepheson       Memphis Grizzlies    35.0       PF  28.0   6-10   270.0                    USC         NaN\n",
      "274            Brandan Wright       Memphis Grizzlies    34.0       PF  28.0   6-10   210.0         North Carolina   5464000.0\n",
      "275             Alexis Ajinca    New Orleans Pelicans    42.0        C  28.0    7-2   248.0                    NaN   4389607.0\n",
      "276             Ryan Anderson    New Orleans Pelicans    33.0       PF  28.0   6-10   240.0             California   8500000.0\n",
      "277                 Omer Asik    New Orleans Pelicans     3.0        C  29.0    7-0   255.0                    NaN   9213483.0\n",
      "278              Luke Babbitt    New Orleans Pelicans     8.0       SF  26.0    6-9   225.0                 Nevada   1100602.0\n",
      "279               Norris Cole    New Orleans Pelicans    30.0       PG  27.0    6-2   175.0        Cleveland State   3036927.0\n",
      "280          Dante Cunningham    New Orleans Pelicans    44.0       PF  29.0    6-8   230.0              Villanova   2850000.0\n",
      "281             Anthony Davis    New Orleans Pelicans    23.0       PF  23.0   6-10   253.0               Kentucky   7070730.0\n",
      "282        Bryce Dejean-Jones    New Orleans Pelicans    31.0       SG  23.0    6-6   203.0             Iowa State    169883.0\n",
      "283             Toney Douglas    New Orleans Pelicans    16.0       PG  30.0    6-2   195.0          Florida State   1164858.0\n",
      "284               James Ennis    New Orleans Pelicans     4.0       SF  25.0    6-7   210.0       Long Beach State    845059.0\n",
      "285              Tyreke Evans    New Orleans Pelicans     1.0       SG  26.0    6-6   220.0                Memphis  10734586.0\n",
      "286               Tim Frazier    New Orleans Pelicans     2.0       PG  25.0    6-1   170.0             Penn State    845059.0\n",
      "287                Alonzo Gee    New Orleans Pelicans    15.0       SF  29.0    6-6   225.0                Alabama   1320000.0\n",
      "288               Eric Gordon    New Orleans Pelicans    10.0       SG  27.0    6-4   215.0                Indiana  15514031.0\n",
      "289           Jordan Hamilton    New Orleans Pelicans    25.0       SG  25.0    6-7   220.0                  Texas   1015421.0\n",
      "290              Jrue Holiday    New Orleans Pelicans    11.0       PG  25.0    6-4   205.0                   UCLA  10595507.0\n",
      "291           Orlando Johnson    New Orleans Pelicans     0.0       SG  27.0    6-5   220.0       UC Santa Barbara     55722.0\n",
      "292          Kendrick Perkins    New Orleans Pelicans     5.0        C  31.0   6-10   270.0                    NaN    947276.0\n",
      "293          Quincy Pondexter    New Orleans Pelicans    20.0       SF  28.0    6-7   220.0             Washington   3382023.0\n",
      "294         LaMarcus Aldridge       San Antonio Spurs    12.0       PF  30.0   6-11   240.0                  Texas  19689000.0\n",
      "295             Kyle Anderson       San Antonio Spurs     1.0       SF  22.0    6-9   230.0                   UCLA   1142880.0\n",
      "296               Matt Bonner       San Antonio Spurs    15.0        C  36.0   6-10   235.0                Florida    947276.0\n",
      "297                Boris Diaw       San Antonio Spurs    33.0        C  34.0    6-8   250.0                    NaN   7500000.0\n",
      "298                Tim Duncan       San Antonio Spurs    21.0        C  40.0   6-11   250.0            Wake Forest   5250000.0\n",
      "299             Manu Ginobili       San Antonio Spurs    20.0       SG  38.0    6-6   205.0                    NaN   2814000.0\n",
      "300               Danny Green       San Antonio Spurs    14.0       SG  28.0    6-6   215.0         North Carolina  10000000.0\n",
      "301             Kawhi Leonard       San Antonio Spurs     2.0       SF  24.0    6-7   230.0        San Diego State  16407500.0\n",
      "302          Boban Marjanovic       San Antonio Spurs    40.0        C  27.0    7-3   290.0                    NaN   1200000.0\n",
      "303              Kevin Martin       San Antonio Spurs    23.0       SG  33.0    6-7   199.0       Western Carolina    200600.0\n",
      "304              Andre Miller       San Antonio Spurs    24.0       PG  40.0    6-3   200.0                   Utah    250750.0\n",
      "305               Patty Mills       San Antonio Spurs     8.0       PG  27.0    6-0   185.0           Saint Mary's   3578947.0\n",
      "306               Tony Parker       San Antonio Spurs     9.0       PG  34.0    6-2   185.0                    NaN  13437500.0\n",
      "307          Jonathon Simmons       San Antonio Spurs    17.0       SG  26.0    6-6   195.0                Houston    525093.0\n",
      "308                David West       San Antonio Spurs    30.0       PF  35.0    6-9   250.0                 Xavier   1499187.0\n",
      "309             Kent Bazemore           Atlanta Hawks    24.0       SF  26.0    6-5   201.0           Old Dominion   2000000.0\n",
      "310          Tim Hardaway Jr.           Atlanta Hawks    10.0       SG  24.0    6-6   205.0               Michigan   1304520.0\n",
      "311              Kirk Hinrich           Atlanta Hawks    12.0       SG  35.0    6-4   190.0                 Kansas   2854940.0\n",
      "312                Al Horford           Atlanta Hawks    15.0        C  30.0   6-10   245.0                Florida  12000000.0\n",
      "313            Kris Humphries           Atlanta Hawks    43.0       PF  31.0    6-9   235.0              Minnesota   1000000.0\n",
      "314               Kyle Korver           Atlanta Hawks    26.0       SG  35.0    6-7   212.0              Creighton   5746479.0\n",
      "315              Paul Millsap           Atlanta Hawks     4.0       PF  31.0    6-8   246.0         Louisiana Tech  18671659.0\n",
      "316              Mike Muscala           Atlanta Hawks    31.0       PF  24.0   6-11   240.0               Bucknell    947276.0\n",
      "317           Lamar Patterson           Atlanta Hawks    13.0       SG  24.0    6-5   225.0             Pittsburgh    525093.0\n",
      "318           Dennis Schroder           Atlanta Hawks    17.0       PG  22.0    6-1   172.0                    NaN   1763400.0\n",
      "319                Mike Scott           Atlanta Hawks    32.0       PF  27.0    6-8   237.0               Virginia   3333333.0\n",
      "320           Thabo Sefolosha           Atlanta Hawks    25.0       SF  32.0    6-7   220.0                    NaN   4000000.0\n",
      "321            Tiago Splitter           Atlanta Hawks    11.0        C  31.0   6-11   245.0                    NaN   9756250.0\n",
      "322            Walter Tavares           Atlanta Hawks    22.0        C  24.0    7-3   260.0                    NaN   1000000.0\n",
      "323               Jeff Teague           Atlanta Hawks     0.0       PG  27.0    6-2   186.0            Wake Forest   8000000.0\n",
      "324             Nicolas Batum       Charlotte Hornets     5.0       SG  27.0    6-8   200.0                    NaN  13125306.0\n",
      "325              Troy Daniels       Charlotte Hornets    30.0       SG  24.0    6-4   205.0  Virginia Commonwealth    947276.0\n",
      "326           Jorge Gutierrez       Charlotte Hornets    12.0       PG  27.0    6-3   189.0             California    189455.0\n",
      "327          Tyler Hansbrough       Charlotte Hornets    50.0       PF  30.0    6-9   250.0         North Carolina    947276.0\n",
      "328            Aaron Harrison       Charlotte Hornets     9.0       SG  21.0    6-6   210.0               Kentucky    525093.0\n",
      "329             Spencer Hawes       Charlotte Hornets     0.0       PF  28.0    7-1   245.0             Washington   6110034.0\n",
      "330              Al Jefferson       Charlotte Hornets    25.0        C  31.0   6-10   289.0                    NaN  13500000.0\n",
      "331        Frank Kaminsky III       Charlotte Hornets    44.0        C  23.0    7-0   240.0              Wisconsin   2612520.0\n",
      "332    Michael Kidd-Gilchrist       Charlotte Hornets    14.0       SF  22.0    6-7   232.0               Kentucky   6331404.0\n",
      "333               Jeremy Lamb       Charlotte Hornets     3.0       SG  24.0    6-5   185.0            Connecticut   3034356.0\n",
      "334              Courtney Lee       Charlotte Hornets     1.0       SG  30.0    6-5   200.0       Western Kentucky   5675000.0\n",
      "335                Jeremy Lin       Charlotte Hornets     7.0       PG  27.0    6-3   200.0                Harvard   2139000.0\n",
      "336              Kemba Walker       Charlotte Hornets    15.0       PG  26.0    6-1   184.0            Connecticut  12000000.0\n",
      "337           Marvin Williams       Charlotte Hornets     2.0       PF  29.0    6-9   237.0         North Carolina   7000000.0\n",
      "338               Cody Zeller       Charlotte Hornets    40.0        C  23.0    7-0   240.0                Indiana   4204200.0\n",
      "339                Chris Bosh              Miami Heat     1.0       PF  32.0   6-11   235.0           Georgia Tech  22192730.0\n",
      "340                 Luol Deng              Miami Heat     9.0       SF  31.0    6-9   220.0                   Duke  10151612.0\n",
      "341              Goran Dragic              Miami Heat     7.0       PG  30.0    6-3   190.0                    NaN  14783000.0\n",
      "342              Gerald Green              Miami Heat    14.0       SF  30.0    6-7   205.0                    NaN    947276.0\n",
      "343             Udonis Haslem              Miami Heat    40.0       PF  36.0    6-8   235.0                Florida   2854940.0\n",
      "344               Joe Johnson              Miami Heat     2.0       SF  34.0    6-7   240.0               Arkansas    261894.0\n",
      "345             Tyler Johnson              Miami Heat     8.0       SG  24.0    6-4   186.0           Fresno State    845059.0\n",
      "346            Josh McRoberts              Miami Heat     4.0       PF  29.0   6-10   240.0                   Duke   5543725.0\n",
      "347           Josh Richardson              Miami Heat     0.0       SG  22.0    6-6   200.0              Tennessee    525093.0\n",
      "348         Amar'e Stoudemire              Miami Heat     5.0       PF  33.0   6-10   245.0                    NaN    947276.0\n",
      "349               Dwyane Wade              Miami Heat     3.0       SG  34.0    6-4   220.0              Marquette  20000000.0\n",
      "350             Briante Weber              Miami Heat    12.0       PG  23.0    6-2   165.0  Virginia Commonwealth         NaN\n",
      "351          Hassan Whiteside              Miami Heat    21.0        C  26.0    7-0   265.0               Marshall    981348.0\n",
      "352           Justise Winslow              Miami Heat    20.0       SF  20.0    6-7   225.0                   Duke   2481720.0\n",
      "353             Dorell Wright              Miami Heat    11.0       SF  30.0    6-9   205.0                    NaN         NaN\n",
      "354            Dewayne Dedmon           Orlando Magic     3.0        C  26.0    7-0   245.0                    USC    947276.0\n",
      "355             Evan Fournier           Orlando Magic    10.0       SG  23.0    6-7   205.0                    NaN   2288205.0\n",
      "356              Aaron Gordon           Orlando Magic     0.0       PF  20.0    6-9   220.0                Arizona   4171680.0\n",
      "357             Mario Hezonja           Orlando Magic    23.0       SG  21.0    6-8   218.0                    NaN   3741480.0\n",
      "358            Ersan Ilyasova           Orlando Magic     7.0       PF  29.0   6-10   235.0                    NaN   7900000.0\n",
      "359          Brandon Jennings           Orlando Magic    55.0       PG  26.0    6-1   169.0                    NaN   8344497.0\n",
      "360              Devyn Marble           Orlando Magic    11.0       SF  23.0    6-6   200.0                   Iowa    845059.0\n",
      "361            Shabazz Napier           Orlando Magic    13.0       PG  24.0    6-1   175.0            Connecticut   1294440.0\n",
      "362          Andrew Nicholson           Orlando Magic    44.0       PF  26.0    6-9   250.0        St. Bonaventure   2380593.0\n",
      "363            Victor Oladipo           Orlando Magic     5.0       SG  24.0    6-4   210.0                Indiana   5192520.0\n",
      "364             Elfrid Payton           Orlando Magic     4.0       PG  22.0    6-4   185.0    Louisiana-Lafayette   2505720.0\n",
      "365               Jason Smith           Orlando Magic    14.0       PF  30.0    7-0   240.0         Colorado State   4300000.0\n",
      "366            Nikola Vucevic           Orlando Magic     9.0        C  25.0    7-0   260.0                    USC  11250000.0\n",
      "367               C.J. Watson           Orlando Magic    32.0       PG  32.0    6-2   175.0              Tennessee   5000000.0\n",
      "368             Alan Anderson      Washington Wizards     6.0       SG  33.0    6-6   220.0         Michigan State   4000000.0\n",
      "369              Bradley Beal      Washington Wizards     3.0       SG  22.0    6-5   207.0                Florida   5694674.0\n",
      "370              Jared Dudley      Washington Wizards     1.0       SF  30.0    6-7   225.0         Boston College   4375000.0\n",
      "371              Jarell Eddie      Washington Wizards     8.0       SG  24.0    6-7   218.0          Virginia Tech    561716.0\n",
      "372               Drew Gooden      Washington Wizards    90.0       PF  34.0   6-10   250.0                 Kansas   3300000.0\n",
      "373             Marcin Gortat      Washington Wizards    13.0        C  32.0   6-11   240.0                    NaN  11217391.0\n",
      "374                JJ Hickson      Washington Wizards    21.0        C  27.0    6-9   242.0   North Carolina State    273038.0\n",
      "375              Nene Hilario      Washington Wizards    42.0        C  33.0   6-11   250.0                    NaN  13000000.0\n",
      "376           Markieff Morris      Washington Wizards     5.0       PF  26.0   6-10   245.0                 Kansas   8000000.0\n",
      "377           Kelly Oubre Jr.      Washington Wizards    12.0       SF  20.0    6-7   205.0                 Kansas   1920240.0\n",
      "378           Otto Porter Jr.      Washington Wizards    22.0       SF  23.0    6-8   198.0             Georgetown   4662960.0\n",
      "379            Ramon Sessions      Washington Wizards     7.0       PG  30.0    6-3   190.0                 Nevada   2170465.0\n",
      "380            Garrett Temple      Washington Wizards    17.0       SG  30.0    6-6   195.0                    LSU   1100602.0\n",
      "381           Marcus Thornton      Washington Wizards    15.0       SF  29.0    6-4   205.0                    LSU    200600.0\n",
      "382                 John Wall      Washington Wizards     2.0       PG  25.0    6-4   195.0               Kentucky  15851950.0\n",
      "383            Darrell Arthur          Denver Nuggets     0.0       PF  28.0    6-9   235.0                 Kansas   2814000.0\n",
      "384             D.J. Augustin          Denver Nuggets    12.0       PG  28.0    6-0   183.0                  Texas   3000000.0\n",
      "385               Will Barton          Denver Nuggets     5.0       SF  25.0    6-6   175.0                Memphis   3533333.0\n",
      "386           Wilson Chandler          Denver Nuggets    21.0       SF  29.0    6-8   225.0                 DePaul  10449438.0\n",
      "387            Kenneth Faried          Denver Nuggets    35.0       PF  26.0    6-8   228.0         Morehead State  11235955.0\n",
      "388          Danilo Gallinari          Denver Nuggets     8.0       SF  27.0   6-10   225.0                    NaN  14000000.0\n",
      "389               Gary Harris          Denver Nuggets    14.0       SG  21.0    6-4   210.0         Michigan State   1584480.0\n",
      "390              Nikola Jokic          Denver Nuggets    15.0        C  21.0   6-10   250.0                    NaN   1300000.0\n",
      "391         Joffrey Lauvergne          Denver Nuggets    77.0        C  24.0   6-11   220.0                    NaN   1709719.0\n",
      "392               Mike Miller          Denver Nuggets     3.0       SG  36.0    6-8   218.0                Florida    947276.0\n",
      "393           Emmanuel Mudiay          Denver Nuggets     0.0       PG  20.0    6-5   200.0                    NaN   3102240.0\n",
      "394             Jameer Nelson          Denver Nuggets     1.0       PG  34.0    6-0   190.0         Saint Joseph's   4345000.0\n",
      "395              Jusuf Nurkic          Denver Nuggets    23.0        C  21.0    7-0   280.0                    NaN   1842000.0\n",
      "396            JaKarr Sampson          Denver Nuggets     9.0       SG  23.0    6-9   214.0             St. John's    258489.0\n",
      "397              Axel Toupane          Denver Nuggets     6.0       SG  23.0    6-7   210.0                    NaN         NaN\n",
      "398           Nemanja Bjelica  Minnesota Timberwolves    88.0       PF  28.0   6-10   240.0                    NaN   3950001.0\n",
      "399              Gorgui Dieng  Minnesota Timberwolves     5.0        C  26.0   6-11   241.0             Louisville   1474440.0\n",
      "400             Kevin Garnett  Minnesota Timberwolves    21.0       PF  40.0   6-11   240.0                    NaN   8500000.0\n",
      "401                Tyus Jones  Minnesota Timberwolves     1.0       PG  20.0    6-2   195.0                   Duke   1282080.0\n",
      "402               Zach LaVine  Minnesota Timberwolves     8.0       PG  21.0    6-5   189.0                   UCLA   2148360.0\n",
      "403          Shabazz Muhammad  Minnesota Timberwolves    15.0       SF  23.0    6-6   223.0                   UCLA   2056920.0\n",
      "404             Adreian Payne  Minnesota Timberwolves    33.0       PF  25.0   6-10   237.0         Michigan State   1938840.0\n",
      "405            Nikola Pekovic  Minnesota Timberwolves    14.0        C  30.0   6-11   307.0                    NaN  12100000.0\n",
      "406           Tayshaun Prince  Minnesota Timberwolves    12.0       SF  36.0    6-9   212.0               Kentucky    947276.0\n",
      "407               Ricky Rubio  Minnesota Timberwolves     9.0       PG  25.0    6-4   194.0                    NaN  12700000.0\n",
      "408              Damjan Rudez  Minnesota Timberwolves    10.0       SF  29.0    6-9   230.0                    NaN   1149500.0\n",
      "409                Greg Smith  Minnesota Timberwolves     4.0       PF  25.0   6-10   250.0           Fresno State         NaN\n",
      "410        Karl-Anthony Towns  Minnesota Timberwolves    32.0        C  20.0    7-0   244.0               Kentucky   5703600.0\n",
      "411            Andrew Wiggins  Minnesota Timberwolves    22.0       SG  21.0    6-8   199.0                 Kansas   5758680.0\n",
      "412              Steven Adams   Oklahoma City Thunder    12.0        C  22.0    7-0   255.0             Pittsburgh   2279040.0\n",
      "413             Nick Collison   Oklahoma City Thunder     4.0       PF  35.0   6-10   255.0                 Kansas   3750000.0\n",
      "414              Kevin Durant   Oklahoma City Thunder    35.0       SF  27.0    6-9   240.0                  Texas  20158622.0\n",
      "415                Randy Foye   Oklahoma City Thunder     6.0       SG  32.0    6-4   213.0              Villanova   3135000.0\n",
      "416              Josh Huestis   Oklahoma City Thunder    34.0       SF  24.0    6-7   230.0               Stanford   1140240.0\n",
      "417               Serge Ibaka   Oklahoma City Thunder     9.0       PF  26.0   6-10   245.0                    NaN  12250000.0\n",
      "418               Enes Kanter   Oklahoma City Thunder    11.0        C  24.0   6-11   245.0               Kentucky  16407500.0\n",
      "419              Mitch McGary   Oklahoma City Thunder    33.0       PF  24.0   6-10   255.0               Michigan   1463040.0\n",
      "420             Nazr Mohammed   Oklahoma City Thunder    13.0        C  38.0   6-10   250.0               Kentucky    222888.0\n",
      "421            Anthony Morrow   Oklahoma City Thunder     2.0       SG  30.0    6-5   210.0           Georgia Tech   3344000.0\n",
      "422             Cameron Payne   Oklahoma City Thunder    22.0       PG  21.0    6-3   185.0           Murray State   2021520.0\n",
      "423            Andre Roberson   Oklahoma City Thunder    21.0       SG  24.0    6-7   210.0               Colorado   1210800.0\n",
      "424              Kyle Singler   Oklahoma City Thunder     5.0       SF  28.0    6-8   228.0                   Duke   4500000.0\n",
      "425              Dion Waiters   Oklahoma City Thunder     3.0       SG  24.0    6-4   220.0               Syracuse   5138430.0\n",
      "426         Russell Westbrook   Oklahoma City Thunder     0.0       PG  27.0    6-3   200.0                   UCLA  16744218.0\n",
      "427           Cliff Alexander  Portland Trail Blazers    34.0       PF  20.0    6-8   240.0                 Kansas    525093.0\n",
      "428           Al-Farouq Aminu  Portland Trail Blazers     8.0       SF  25.0    6-9   215.0            Wake Forest   8042895.0\n",
      "429           Pat Connaughton  Portland Trail Blazers     5.0       SG  23.0    6-5   206.0             Notre Dame    625093.0\n",
      "430              Allen Crabbe  Portland Trail Blazers    23.0       SG  24.0    6-6   210.0             California    947276.0\n",
      "431                  Ed Davis  Portland Trail Blazers    17.0        C  27.0   6-10   240.0         North Carolina   6980802.0\n",
      "432          Maurice Harkless  Portland Trail Blazers     4.0       SF  23.0    6-9   215.0             St. John's   2894059.0\n",
      "433          Gerald Henderson  Portland Trail Blazers     9.0       SG  28.0    6-5   215.0                   Duke   6000000.0\n",
      "434               Chris Kaman  Portland Trail Blazers    35.0        C  34.0    7-0   265.0       Central Michigan   5016000.0\n",
      "435            Meyers Leonard  Portland Trail Blazers    11.0       PF  24.0    7-1   245.0               Illinois   3075880.0\n",
      "436            Damian Lillard  Portland Trail Blazers     0.0       PG  25.0    6-3   195.0            Weber State   4236287.0\n",
      "437             C.J. McCollum  Portland Trail Blazers     3.0       SG  24.0    6-4   200.0                 Lehigh   2525160.0\n",
      "438              Luis Montero  Portland Trail Blazers    44.0       SG  23.0    6-7   185.0         Westchester CC    525093.0\n",
      "439             Mason Plumlee  Portland Trail Blazers    24.0        C  26.0   6-11   235.0                   Duke   1415520.0\n",
      "440             Brian Roberts  Portland Trail Blazers     2.0       PG  30.0    6-1   173.0                 Dayton   2854940.0\n",
      "441               Noah Vonleh  Portland Trail Blazers    21.0       PF  20.0    6-9   240.0                Indiana   2637720.0\n",
      "442             Trevor Booker               Utah Jazz    33.0       PF  28.0    6-8   228.0                Clemson   4775000.0\n",
      "443                Trey Burke               Utah Jazz     3.0       PG  23.0    6-1   191.0               Michigan   2658240.0\n",
      "444                Alec Burks               Utah Jazz    10.0       SG  24.0    6-6   214.0               Colorado   9463484.0\n",
      "445                Dante Exum               Utah Jazz    11.0       PG  20.0    6-6   190.0                    NaN   3777720.0\n",
      "446            Derrick Favors               Utah Jazz    15.0       PF  24.0   6-10   265.0           Georgia Tech  12000000.0\n",
      "447               Rudy Gobert               Utah Jazz    27.0        C  23.0    7-1   245.0                    NaN   1175880.0\n",
      "448            Gordon Hayward               Utah Jazz    20.0       SF  26.0    6-8   226.0                 Butler  15409570.0\n",
      "449               Rodney Hood               Utah Jazz     5.0       SG  23.0    6-8   206.0                   Duke   1348440.0\n",
      "450                Joe Ingles               Utah Jazz     2.0       SF  28.0    6-8   226.0                    NaN   2050000.0\n",
      "451             Chris Johnson               Utah Jazz    23.0       SF  26.0    6-6   206.0                 Dayton    981348.0\n",
      "452                Trey Lyles               Utah Jazz    41.0       PF  20.0   6-10   234.0               Kentucky   2239800.0\n",
      "453              Shelvin Mack               Utah Jazz     8.0       PG  26.0    6-3   203.0                 Butler   2433333.0\n",
      "454                 Raul Neto               Utah Jazz    25.0       PG  24.0    6-1   179.0                    NaN    900000.0\n",
      "455              Tibor Pleiss               Utah Jazz    21.0        C  26.0    7-3   256.0                    NaN   2900000.0\n",
      "456               Jeff Withey               Utah Jazz    24.0        C  26.0    7-0   231.0                 Kansas    947276.0\n",
      "457                       NaN                     NaN     NaN      NaN   NaN    NaN     NaN                    NaN         NaN\n"
     ]
    }
   ],
   "source": [
    "df = pd.read_csv('nba.csv')\n",
    "print(df.to_string())\n",
    "# print(df)"
   ]
  },
  {
   "cell_type": "markdown",
   "metadata": {},
   "source": [
    "我们也可以使用 to_csv() 方法将 DataFrame 存储为 csv 文件："
   ]
  },
  {
   "cell_type": "code",
   "execution_count": 27,
   "metadata": {},
   "outputs": [
    {
     "name": "stdout",
     "output_type": "stream",
     "text": [
      "     name               site  age\n",
      "0  Google     www.google.com   90\n",
      "1  Runoob     www.runoob.com   40\n",
      "2  Taobao     www.taobao.com   80\n",
      "3    Wiki  www.wikipedia.org   98\n"
     ]
    }
   ],
   "source": [
    " # 三个字段 name, site, age\n",
    "nme = [\"Google\", \"Runoob\", \"Taobao\", \"Wiki\"]\n",
    "st = [\"www.google.com\", \"www.runoob.com\", \"www.taobao.com\", \"www.wikipedia.org\"]\n",
    "ag = [90, 40, 80, 98]\n",
    "   \n",
    "# 字典\n",
    "dict = {'name': nme, 'site': st, 'age': ag} \n",
    "     \n",
    "df_to_store = pd.DataFrame(dict)\n",
    "print(df_to_store)\n",
    "  \n",
    "# 保存 dataframe\n",
    "df_to_store.to_csv('site.csv')"
   ]
  },
  {
   "cell_type": "markdown",
   "metadata": {},
   "source": [
    "数据处理\n",
    "\n",
    "head(n)方法用于读取前面的 n 行，如果不填参数 n ，默认返回 5 行"
   ]
  },
  {
   "cell_type": "code",
   "execution_count": 28,
   "metadata": {},
   "outputs": [
    {
     "name": "stdout",
     "output_type": "stream",
     "text": [
      "            Name            Team  Number Position   Age Height  Weight  \\\n",
      "0  Avery Bradley  Boston Celtics     0.0       PG  25.0    6-2   180.0   \n",
      "1    Jae Crowder  Boston Celtics    99.0       SF  25.0    6-6   235.0   \n",
      "2   John Holland  Boston Celtics    30.0       SG  27.0    6-5   205.0   \n",
      "3    R.J. Hunter  Boston Celtics    28.0       SG  22.0    6-5   185.0   \n",
      "4  Jonas Jerebko  Boston Celtics     8.0       PF  29.0   6-10   231.0   \n",
      "\n",
      "             College     Salary  \n",
      "0              Texas  7730337.0  \n",
      "1          Marquette  6796117.0  \n",
      "2  Boston University        NaN  \n",
      "3      Georgia State  1148640.0  \n",
      "4                NaN  5000000.0  \n"
     ]
    }
   ],
   "source": [
    "print(df.head())"
   ]
  },
  {
   "cell_type": "markdown",
   "metadata": {},
   "source": [
    "tail(n) 方法用于读取尾部的 n 行，如果不填参数 n ，默认返回 5 行，空行各个字段的值返回 NaN。"
   ]
  },
  {
   "cell_type": "code",
   "execution_count": 29,
   "metadata": {},
   "outputs": [
    {
     "name": "stdout",
     "output_type": "stream",
     "text": [
      "             Name       Team  Number Position   Age Height  Weight College  \\\n",
      "455  Tibor Pleiss  Utah Jazz    21.0        C  26.0    7-3   256.0     NaN   \n",
      "456   Jeff Withey  Utah Jazz    24.0        C  26.0    7-0   231.0  Kansas   \n",
      "457           NaN        NaN     NaN      NaN   NaN    NaN     NaN     NaN   \n",
      "\n",
      "        Salary  \n",
      "455  2900000.0  \n",
      "456   947276.0  \n",
      "457        NaN  \n"
     ]
    }
   ],
   "source": [
    "print(df.tail(3))"
   ]
  },
  {
   "cell_type": "markdown",
   "metadata": {},
   "source": [
    "info() 方法返回表格的一些基本信息：\n",
    "non-null 为非空数据，我们可以看到上面的信息中，总共 458 行，College 字段的空值最多。"
   ]
  },
  {
   "cell_type": "code",
   "execution_count": 30,
   "metadata": {},
   "outputs": [
    {
     "name": "stdout",
     "output_type": "stream",
     "text": [
      "<class 'pandas.core.frame.DataFrame'>\n",
      "RangeIndex: 458 entries, 0 to 457\n",
      "Data columns (total 9 columns):\n",
      " #   Column    Non-Null Count  Dtype  \n",
      "---  ------    --------------  -----  \n",
      " 0   Name      457 non-null    object \n",
      " 1   Team      457 non-null    object \n",
      " 2   Number    457 non-null    float64\n",
      " 3   Position  457 non-null    object \n",
      " 4   Age       457 non-null    float64\n",
      " 5   Height    457 non-null    object \n",
      " 6   Weight    457 non-null    float64\n",
      " 7   College   373 non-null    object \n",
      " 8   Salary    446 non-null    float64\n",
      "dtypes: float64(4), object(5)\n",
      "memory usage: 32.3+ KB\n",
      "None\n"
     ]
    }
   ],
   "source": [
    "print(df.info())"
   ]
  },
  {
   "cell_type": "markdown",
   "metadata": {},
   "source": [
    "## Pandas JSON\n",
    "\n",
    "Pandas 可以很方便的处理 JSON 数据，本文以 sites.json 为例，内容如下："
   ]
  },
  {
   "cell_type": "code",
   "execution_count": 31,
   "metadata": {},
   "outputs": [
    {
     "name": "stdout",
     "output_type": "stream",
     "text": [
      "     id    name             url  likes\n",
      "0  A001    菜鸟教程  www.runoob.com     61\n",
      "1  A002  Google  www.google.com    124\n",
      "2  A003      淘宝  www.taobao.com     45\n"
     ]
    }
   ],
   "source": [
    "df = pd.read_json('sites.json')\n",
    "print(df.to_string())"
   ]
  },
  {
   "cell_type": "markdown",
   "metadata": {},
   "source": [
    "JSON 对象与 Python 字典具有相同的格式，所以我们可以直接将 Python 字典转化为 DataFrame 数据："
   ]
  },
  {
   "cell_type": "code",
   "execution_count": 32,
   "metadata": {},
   "outputs": [
    {
     "name": "stdout",
     "output_type": "stream",
     "text": [
      "      col1 col2\n",
      "row1     1    x\n",
      "row2     2    y\n",
      "row3     3    z\n"
     ]
    }
   ],
   "source": [
    "# 字典格式的 JSON                                                                                              \n",
    "s = {\n",
    "    \"col1\":{\"row1\":1,\"row2\":2,\"row3\":3},\n",
    "    \"col2\":{\"row1\":\"x\",\"row2\":\"y\",\"row3\":\"z\"}\n",
    "}\n",
    "\n",
    "# 读取 JSON 转为 DataFrame                                                                                          \n",
    "df = pd.DataFrame(s)\n",
    "print(df)"
   ]
  },
  {
   "cell_type": "markdown",
   "metadata": {},
   "source": [
    "也可以直接从从 URL 中读取 JSON 数据："
   ]
  },
  {
   "cell_type": "code",
   "execution_count": 33,
   "metadata": {},
   "outputs": [
    {
     "name": "stdout",
     "output_type": "stream",
     "text": [
      "     id    name             url  likes\n",
      "0  A001    菜鸟教程  www.runoob.com     61\n",
      "1  A002  Google  www.google.com    124\n",
      "2  A003      淘宝  www.taobao.com     45\n"
     ]
    }
   ],
   "source": [
    "URL = 'https://static.jyshare.com/download/sites.json'\n",
    "df = pd.read_json(URL)\n",
    "print(df)"
   ]
  },
  {
   "cell_type": "markdown",
   "metadata": {},
   "source": [
    "**内嵌的 JSON 数据**\n",
    "\n",
    "使用以下代码格式化完整内容："
   ]
  },
  {
   "cell_type": "code",
   "execution_count": 34,
   "metadata": {},
   "outputs": [
    {
     "name": "stdout",
     "output_type": "stream",
     "text": [
      "          school_name   class  \\\n",
      "0  ABC primary school  Year 1   \n",
      "1  ABC primary school  Year 1   \n",
      "2  ABC primary school  Year 1   \n",
      "\n",
      "                                            students  \n",
      "0  {'id': 'A001', 'name': 'Tom', 'math': 60, 'phy...  \n",
      "1  {'id': 'A002', 'name': 'James', 'math': 89, 'p...  \n",
      "2  {'id': 'A003', 'name': 'Jenny', 'math': 79, 'p...  \n"
     ]
    }
   ],
   "source": [
    "df = pd.read_json('nested_list.json')\n",
    "print(df)"
   ]
  },
  {
   "cell_type": "markdown",
   "metadata": {},
   "source": [
    "这时我们就需要使用到 json_normalize() 方法将内嵌的数据完整的解析出来："
   ]
  },
  {
   "cell_type": "markdown",
   "metadata": {},
   "source": [
    "data = json.loads(f.read()) 使用 Python JSON 模块载入数据。\n",
    "\n",
    "json_normalize() 使用了参数 record_path 并设置为 ['students'] 用于展开内嵌的 JSON 数据 students。\n",
    "\n",
    "显示结果还没有包含 school_name 和 class 元素，如果需要展示出来可以使用 meta 参数来显示这些元数据："
   ]
  },
  {
   "cell_type": "code",
   "execution_count": 35,
   "metadata": {},
   "outputs": [
    {
     "name": "stdout",
     "output_type": "stream",
     "text": [
      "     id   name  math  physics  chemistry\n",
      "0  A001    Tom    60       66         61\n",
      "1  A002  James    89       76         51\n",
      "2  A003  Jenny    79       90         78\n",
      "--------------------------------------------------------------------------------\n",
      "     id   name  math  physics  chemistry         school_name   class\n",
      "0  A001    Tom    60       66         61  ABC primary school  Year 1\n",
      "1  A002  James    89       76         51  ABC primary school  Year 1\n",
      "2  A003  Jenny    79       90         78  ABC primary school  Year 1\n"
     ]
    }
   ],
   "source": [
    "import json\n",
    "\n",
    "# 使用 Python JSON 模块载入数据\n",
    "with open('nested_list.json','r') as f:\n",
    "    data = json.loads(f.read())\n",
    "\n",
    "# 展平数据\n",
    "df_nested_list = pd.json_normalize(data, record_path =['students'])\n",
    "print(df_nested_list)\n",
    "print(\"-\"*80)\n",
    "\n",
    "# 显示school_name 和 class 元素\n",
    "df_nested_list = pd.json_normalize(\n",
    "    data,\n",
    "    record_path =['students'],\n",
    "    meta=['school_name', 'class']\n",
    ")\n",
    "print(df_nested_list)"
   ]
  },
  {
   "cell_type": "markdown",
   "metadata": {},
   "source": [
    "接下来，让我们尝试读取更复杂的 JSON 数据，数据文件 nested_mix.json嵌套了列表和字典"
   ]
  },
  {
   "cell_type": "code",
   "execution_count": 36,
   "metadata": {},
   "outputs": [
    {
     "name": "stdout",
     "output_type": "stream",
     "text": [
      "     id   name  math  physics  chemistry   class info.president  \\\n",
      "0  A001    Tom    60       66         61  Year 1    John Kasich   \n",
      "1  A002  James    89       76         51  Year 1    John Kasich   \n",
      "2  A003  Jenny    79       90         78  Year 1    John Kasich   \n",
      "\n",
      "  info.contacts.tel  \n",
      "0         123456789  \n",
      "1         123456789  \n",
      "2         123456789  \n"
     ]
    }
   ],
   "source": [
    "with open('nested_mix.json','r') as f:\n",
    "    data = json.loads(f.read())\n",
    "   \n",
    "df = pd.json_normalize(\n",
    "    data,\n",
    "    record_path =['students'],\n",
    "    meta=[\n",
    "        'class',\n",
    "        ['info', 'president'],\n",
    "        ['info', 'contacts', 'tel']\n",
    "    ]\n",
    ")\n",
    "\n",
    "print(df)"
   ]
  },
  {
   "cell_type": "markdown",
   "metadata": {},
   "source": [
    "读取内嵌数据中的一组数据时候，可以使用 glom 模块来处理数据套嵌，glom 模块允许我们使用 . 来访问内嵌对象的属性"
   ]
  },
  {
   "cell_type": "markdown",
   "metadata": {},
   "source": [
    "## Pandas 数据清洗\n",
    "\n",
    "数据清洗是对一些没有用的数据进行处理的过程。\n",
    "\n",
    "很多数据集存在数据缺失、数据格式错误、错误数据或重复数据的情况，如果要使数据分析更加准确，就需要对这些没有用的数据进行处理。\n",
    "\n",
    "在这个教程中，我们将利用 Pandas包来进行数据清洗。"
   ]
  },
  {
   "cell_type": "markdown",
   "metadata": {},
   "source": [
    "如果我们要删除包含空字段的行，可以使用 dropna() 方法：\n",
    "\n",
    "DataFrame.dropna(axis=0, how='any', thresh=None, subset=None, inplace=False)\n",
    "\n",
    "我们可以通过 isnull() 判断各个单元格是否为空"
   ]
  },
  {
   "cell_type": "code",
   "execution_count": 37,
   "metadata": {},
   "outputs": [
    {
     "name": "stdout",
     "output_type": "stream",
     "text": [
      "0      3\n",
      "1      3\n",
      "2    NaN\n",
      "3      1\n",
      "4      3\n",
      "5    NaN\n",
      "6      2\n",
      "7      1\n",
      "8     na\n",
      "Name: NUM_BEDROOMS, dtype: object\n",
      "--------------------------------------------------------------------------------\n",
      "0    False\n",
      "1    False\n",
      "2     True\n",
      "3    False\n",
      "4    False\n",
      "5     True\n",
      "6    False\n",
      "7    False\n",
      "8    False\n",
      "Name: NUM_BEDROOMS, dtype: bool\n"
     ]
    }
   ],
   "source": [
    "df = pd.read_csv('property-data.csv')\n",
    "\n",
    "print (df['NUM_BEDROOMS'])\n",
    "print(\"-\"*80)\n",
    "print (df['NUM_BEDROOMS'].isnull())"
   ]
  },
  {
   "cell_type": "markdown",
   "metadata": {},
   "source": [
    "以上例子中我们看到 Pandas 把 n/a 和 NA 当作空数据，na 不是空数据，不符合我们要求，我们可以指定空数据类型："
   ]
  },
  {
   "cell_type": "code",
   "execution_count": 38,
   "metadata": {},
   "outputs": [
    {
     "name": "stdout",
     "output_type": "stream",
     "text": [
      "0    3.0\n",
      "1    3.0\n",
      "2    NaN\n",
      "3    1.0\n",
      "4    3.0\n",
      "5    NaN\n",
      "6    2.0\n",
      "7    1.0\n",
      "8    NaN\n",
      "Name: NUM_BEDROOMS, dtype: float64\n",
      "--------------------------------------------------------------------------------\n",
      "0    False\n",
      "1    False\n",
      "2     True\n",
      "3    False\n",
      "4    False\n",
      "5     True\n",
      "6    False\n",
      "7    False\n",
      "8     True\n",
      "Name: NUM_BEDROOMS, dtype: bool\n"
     ]
    }
   ],
   "source": [
    "missing_values = [\"n/a\", \"na\", \"--\"]\n",
    "df = pd.read_csv('property-data.csv', na_values = missing_values)\n",
    "\n",
    "print (df['NUM_BEDROOMS'])\n",
    "print(\"-\"*80)\n",
    "print (df['NUM_BEDROOMS'].isnull())"
   ]
  },
  {
   "cell_type": "markdown",
   "metadata": {},
   "source": [
    "接下来的实例演示了删除包含空数据的行。"
   ]
  },
  {
   "cell_type": "code",
   "execution_count": 39,
   "metadata": {},
   "outputs": [
    {
     "name": "stdout",
     "output_type": "stream",
     "text": [
      "           PID  ST_NUM ST_NAME OWN_OCCUPIED  NUM_BEDROOMS NUM_BATH   SQ_FT\n",
      "0  100001000.0   104.0  PUTNAM            Y           3.0        1  1000.0\n"
     ]
    }
   ],
   "source": [
    "new_df = df.dropna()\n",
    "print(new_df.to_string())"
   ]
  },
  {
   "cell_type": "markdown",
   "metadata": {},
   "source": [
    "**注意**：默认情况下，dropna() 方法返回一个新的 DataFrame，不会修改源数据。\n",
    "\n",
    "如果你要修改源数据 DataFrame, 可以使用 inplace = True 参数\n",
    "\n",
    "我们也可以移除指定列有空值的行："
   ]
  },
  {
   "cell_type": "code",
   "execution_count": 40,
   "metadata": {},
   "outputs": [
    {
     "name": "stdout",
     "output_type": "stream",
     "text": [
      "           PID  ST_NUM     ST_NAME OWN_OCCUPIED  NUM_BEDROOMS NUM_BATH   SQ_FT\n",
      "0  100001000.0   104.0      PUTNAM            Y           3.0        1  1000.0\n",
      "1  100002000.0   197.0   LEXINGTON            N           3.0      1.5     NaN\n",
      "2  100003000.0     NaN   LEXINGTON            N           NaN        1   850.0\n",
      "3  100004000.0   201.0    BERKELEY           12           1.0      NaN   700.0\n",
      "4          NaN   203.0    BERKELEY            Y           3.0        2  1600.0\n",
      "5  100006000.0   207.0    BERKELEY            Y           NaN        1   800.0\n",
      "6  100007000.0     NaN  WASHINGTON          NaN           2.0   HURLEY   950.0\n",
      "7  100008000.0   213.0     TREMONT            Y           1.0        1     NaN\n",
      "8  100009000.0   215.0     TREMONT            Y           NaN        2  1800.0\n",
      "--------------------------------------------------------------------------------\n",
      "           PID  ST_NUM    ST_NAME OWN_OCCUPIED  NUM_BEDROOMS NUM_BATH   SQ_FT\n",
      "0  100001000.0   104.0     PUTNAM            Y           3.0        1  1000.0\n",
      "1  100002000.0   197.0  LEXINGTON            N           3.0      1.5     NaN\n",
      "3  100004000.0   201.0   BERKELEY           12           1.0      NaN   700.0\n",
      "4          NaN   203.0   BERKELEY            Y           3.0        2  1600.0\n",
      "5  100006000.0   207.0   BERKELEY            Y           NaN        1   800.0\n",
      "7  100008000.0   213.0    TREMONT            Y           1.0        1     NaN\n",
      "8  100009000.0   215.0    TREMONT            Y           NaN        2  1800.0\n"
     ]
    }
   ],
   "source": [
    "print (df)\n",
    "print(\"-\"*80)\n",
    "df.dropna(subset=['ST_NUM'], inplace = True)\n",
    "print(df.to_string())"
   ]
  },
  {
   "cell_type": "markdown",
   "metadata": {},
   "source": [
    "我们也可以 fillna() 方法来替换一些空字段：\n",
    "\n",
    "比如这里使用 12345 替换空字段"
   ]
  },
  {
   "cell_type": "code",
   "execution_count": 41,
   "metadata": {},
   "outputs": [
    {
     "name": "stdout",
     "output_type": "stream",
     "text": [
      "           PID   ST_NUM     ST_NAME OWN_OCCUPIED NUM_BEDROOMS NUM_BATH  SQ_FT\n",
      "0  100001000.0    104.0      PUTNAM            Y            3        1   1000\n",
      "1  100002000.0    197.0   LEXINGTON            N            3      1.5     --\n",
      "2  100003000.0  12345.0   LEXINGTON            N        12345        1    850\n",
      "3  100004000.0    201.0    BERKELEY           12            1    12345    700\n",
      "4      12345.0    203.0    BERKELEY            Y            3        2   1600\n",
      "5  100006000.0    207.0    BERKELEY            Y        12345        1    800\n",
      "6  100007000.0  12345.0  WASHINGTON        12345            2   HURLEY    950\n",
      "7  100008000.0    213.0     TREMONT            Y            1        1  12345\n",
      "8  100009000.0    215.0     TREMONT            Y           na        2   1800\n"
     ]
    }
   ],
   "source": [
    "df = pd.read_csv('property-data.csv')\n",
    "print(df.fillna(12345).to_string())"
   ]
  },
  {
   "cell_type": "markdown",
   "metadata": {},
   "source": [
    "我们也可以指定某一个列来替换数据："
   ]
  },
  {
   "cell_type": "code",
   "execution_count": 42,
   "metadata": {},
   "outputs": [
    {
     "name": "stdout",
     "output_type": "stream",
     "text": [
      "           PID  ST_NUM     ST_NAME OWN_OCCUPIED NUM_BEDROOMS NUM_BATH SQ_FT\n",
      "0  100001000.0   104.0      PUTNAM            Y            3        1  1000\n",
      "1  100002000.0   197.0   LEXINGTON            N            3      1.5    --\n",
      "2  100003000.0     NaN   LEXINGTON            N          NaN        1   850\n",
      "3  100004000.0   201.0    BERKELEY           12            1      NaN   700\n",
      "4      12345.0   203.0    BERKELEY            Y            3        2  1600\n",
      "5  100006000.0   207.0    BERKELEY            Y          NaN        1   800\n",
      "6  100007000.0     NaN  WASHINGTON          NaN            2   HURLEY   950\n",
      "7  100008000.0   213.0     TREMONT            Y            1        1   NaN\n",
      "8  100009000.0   215.0     TREMONT            Y           na        2  1800\n"
     ]
    }
   ],
   "source": [
    "df['PID'].fillna(12345, inplace = True)\n",
    "print(df.to_string())"
   ]
  },
  {
   "cell_type": "markdown",
   "metadata": {},
   "source": [
    "替换空单元格的常用方法是计算列的均值、中位数值或众数。\n",
    "\n",
    "Pandas使用 mean()、median() 和 mode() 方法计算列的均值（所有值加起来的平均值）、中位数值（排序后排在中间的数）和众数（出现频率最高的数）"
   ]
  },
  {
   "cell_type": "code",
   "execution_count": 43,
   "metadata": {},
   "outputs": [
    {
     "name": "stdout",
     "output_type": "stream",
     "text": [
      "使用mean()来计算均值并替换：\n",
      "191.42857142857142\n",
      "           PID      ST_NUM     ST_NAME OWN_OCCUPIED NUM_BEDROOMS NUM_BATH SQ_FT\n",
      "0  100001000.0  104.000000      PUTNAM            Y            3        1  1000\n",
      "1  100002000.0  197.000000   LEXINGTON            N            3      1.5    --\n",
      "2  100003000.0  191.428571   LEXINGTON            N          NaN        1   850\n",
      "3  100004000.0  201.000000    BERKELEY           12            1      NaN   700\n",
      "4      12345.0  203.000000    BERKELEY            Y            3        2  1600\n",
      "5  100006000.0  207.000000    BERKELEY            Y          NaN        1   800\n",
      "6  100007000.0  191.428571  WASHINGTON          NaN            2   HURLEY   950\n",
      "7  100008000.0  213.000000     TREMONT            Y            1        1   NaN\n",
      "8  100009000.0  215.000000     TREMONT            Y           na        2  1800\n"
     ]
    }
   ],
   "source": [
    "print(\"使用mean()来计算均值并替换：\")\n",
    "x = df[\"ST_NUM\"].mean()\n",
    "print(x)\n",
    "df[\"ST_NUM\"].fillna(x, inplace = True)\n",
    "print(df.to_string())"
   ]
  },
  {
   "cell_type": "code",
   "execution_count": 44,
   "metadata": {},
   "outputs": [
    {
     "name": "stdout",
     "output_type": "stream",
     "text": [
      "使用median()来计算中位数并替换：\n",
      "203.0\n",
      "           PID  ST_NUM     ST_NAME OWN_OCCUPIED NUM_BEDROOMS NUM_BATH SQ_FT\n",
      "0  100001000.0   104.0      PUTNAM            Y            3        1  1000\n",
      "1  100002000.0   197.0   LEXINGTON            N            3      1.5    --\n",
      "2  100003000.0   203.0   LEXINGTON            N          NaN        1   850\n",
      "3  100004000.0   201.0    BERKELEY           12            1      NaN   700\n",
      "4          NaN   203.0    BERKELEY            Y            3        2  1600\n",
      "5  100006000.0   207.0    BERKELEY            Y          NaN        1   800\n",
      "6  100007000.0   203.0  WASHINGTON          NaN            2   HURLEY   950\n",
      "7  100008000.0   213.0     TREMONT            Y            1        1   NaN\n",
      "8  100009000.0   215.0     TREMONT            Y           na        2  1800\n"
     ]
    }
   ],
   "source": [
    "print(\"使用median()来计算中位数并替换：\")\n",
    "df = pd.read_csv('property-data.csv')\n",
    "x = df[\"ST_NUM\"].median()\n",
    "print(x)\n",
    "df[\"ST_NUM\"].fillna(x, inplace = True)\n",
    "print(df.to_string())"
   ]
  },
  {
   "cell_type": "code",
   "execution_count": 45,
   "metadata": {},
   "outputs": [
    {
     "name": "stdout",
     "output_type": "stream",
     "text": [
      "使用mode()来计算众数并替换：\n",
      "0    3\n",
      "Name: NUM_BEDROOMS, dtype: object\n",
      "           PID  ST_NUM     ST_NAME OWN_OCCUPIED NUM_BEDROOMS NUM_BATH SQ_FT\n",
      "0  100001000.0   104.0      PUTNAM            Y            3        1  1000\n",
      "1  100002000.0   197.0   LEXINGTON            N            3      1.5    --\n",
      "2  100003000.0     NaN   LEXINGTON            N            3        1   850\n",
      "3  100004000.0   201.0    BERKELEY           12            1      NaN   700\n",
      "4          NaN   203.0    BERKELEY            Y            3        2  1600\n",
      "5  100006000.0   207.0    BERKELEY            Y            3        1   800\n",
      "6  100007000.0     NaN  WASHINGTON          NaN            2   HURLEY   950\n",
      "7  100008000.0   213.0     TREMONT            Y            1        1   NaN\n",
      "8  100009000.0   215.0     TREMONT            Y           na        2  1800\n"
     ]
    }
   ],
   "source": [
    "print(\"使用mode()来计算众数并替换：\")\n",
    "df = pd.read_csv('property-data.csv')\n",
    "x = df[\"NUM_BEDROOMS\"].mode()\n",
    "print(x)\n",
    "df[\"NUM_BEDROOMS\"].fillna(x[0], inplace = True)\n",
    "print(df.to_string())"
   ]
  },
  {
   "cell_type": "markdown",
   "metadata": {},
   "source": [
    "**Pandas 清洗格式错误数据**\n",
    "\n",
    "数据格式错误的单元格会使数据分析变得困难，甚至不可能。\n",
    "\n",
    "我们可以通过包含空单元格的行，或者将列中的所有单元格转换为相同格式的数据。\n",
    "\n",
    "以下实例会格式化日期："
   ]
  },
  {
   "cell_type": "code",
   "execution_count": 46,
   "metadata": {},
   "outputs": [
    {
     "name": "stdout",
     "output_type": "stream",
     "text": [
      "           Date  duration\n",
      "day1 2020-12-01        50\n",
      "day2 2020-12-02        40\n",
      "day3 2020-12-26        45\n"
     ]
    }
   ],
   "source": [
    "data = {\n",
    "  \"Date\": ['2020/12/01', '2020/12/02' , '20201226'],\n",
    "  \"duration\": [50, 40, 45]\n",
    "}\n",
    "\n",
    "df = pd.DataFrame(data, index = [\"day1\", \"day2\", \"day3\"])\n",
    "df['Date'] = pd.to_datetime(df['Date'], format='mixed')\n",
    "print(df.to_string())"
   ]
  },
  {
   "cell_type": "markdown",
   "metadata": {},
   "source": [
    "**Pandas 清洗错误数据**\n",
    "\n",
    "数据错误也是很常见的情况，我们可以对错误的数据进行替换或移除。\n",
    "\n",
    "以下实例会替换错误年龄的数据："
   ]
  },
  {
   "cell_type": "code",
   "execution_count": 47,
   "metadata": {},
   "outputs": [
    {
     "name": "stdout",
     "output_type": "stream",
     "text": [
      "     name  age\n",
      "0  Google   50\n",
      "1  Runoob   40\n",
      "2  Taobao   30\n"
     ]
    }
   ],
   "source": [
    "person = {\n",
    "  \"name\": ['Google', 'Runoob' , 'Taobao'],\n",
    "  \"age\": [50, 40, 12345]    # 12345 年龄数据是错误的\n",
    "}\n",
    "\n",
    "df = pd.DataFrame(person)\n",
    "\n",
    "df.loc[2, 'age'] = 30 # 修改数据\n",
    "\n",
    "print(df.to_string())"
   ]
  },
  {
   "cell_type": "markdown",
   "metadata": {},
   "source": [
    "也可以设置条件语句："
   ]
  },
  {
   "cell_type": "code",
   "execution_count": 48,
   "metadata": {},
   "outputs": [
    {
     "name": "stdout",
     "output_type": "stream",
     "text": [
      "     name  age\n",
      "0  Google   50\n",
      "1  Runoob   40\n",
      "2  Taobao  120\n"
     ]
    }
   ],
   "source": [
    "df = pd.DataFrame(person)\n",
    "\n",
    "for x in df.index:\n",
    "  if df.loc[x, \"age\"] > 120:\n",
    "    df.loc[x, \"age\"] = 120\n",
    "\n",
    "print(df.to_string())"
   ]
  },
  {
   "cell_type": "markdown",
   "metadata": {},
   "source": [
    "**Pandas 清洗重复数据**\n",
    "\n",
    "如果我们要清洗重复数据，可以使用 duplicated() 和 drop_duplicates() 方法。\n",
    "\n",
    "如果对应的数据是重复的，duplicated() 会返回 True，否则返回 False。"
   ]
  },
  {
   "cell_type": "code",
   "execution_count": 49,
   "metadata": {},
   "outputs": [
    {
     "name": "stdout",
     "output_type": "stream",
     "text": [
      "0    False\n",
      "1    False\n",
      "2     True\n",
      "3    False\n",
      "dtype: bool\n"
     ]
    }
   ],
   "source": [
    "person = {\n",
    "  \"name\": ['Google', 'Runoob', 'Runoob', 'Taobao'],\n",
    "  \"age\": [50, 40, 40, 23]  \n",
    "}\n",
    "df = pd.DataFrame(person)\n",
    "\n",
    "print(df.duplicated())"
   ]
  },
  {
   "cell_type": "markdown",
   "metadata": {},
   "source": [
    "删除重复数据，可以直接使用drop_duplicates() 方法"
   ]
  },
  {
   "cell_type": "code",
   "execution_count": 50,
   "metadata": {},
   "outputs": [
    {
     "name": "stdout",
     "output_type": "stream",
     "text": [
      "     name  age\n",
      "0  Google   50\n",
      "1  Runoob   40\n",
      "3  Taobao   23\n"
     ]
    }
   ],
   "source": [
    "persons = {\n",
    "  \"name\": ['Google', 'Runoob', 'Runoob', 'Taobao'],\n",
    "  \"age\": [50, 40, 40, 23]  \n",
    "}\n",
    "\n",
    "df = pd.DataFrame(persons)\n",
    "\n",
    "df.drop_duplicates(inplace = True)\n",
    "print(df)"
   ]
  },
  {
   "cell_type": "markdown",
   "metadata": {},
   "source": [
    "## Pandas 常用函数\n",
    "\n",
    "以下列出了 Pandas 常用的一些函数及使用实例：\n",
    "\n",
    "**读取数据**\n",
    "\n",
    "pd.read_csv(filename)\t读取 CSV 文件；\n",
    "\n",
    "pd.read_excel(filename)\t读取 Excel 文件；\n",
    "\n",
    "pd.read_sql(query, connection_object)\t从 SQL 数据库读取数据；\n",
    "\n",
    "pd.read_json(json_string)\t从 JSON 字符串中读取数据；\n",
    "\n",
    "pd.read_html(url)\t从 HTML 页面中读取数据。"
   ]
  },
  {
   "cell_type": "markdown",
   "metadata": {},
   "source": [
    "**查看数据**\n",
    "\n",
    "df.head(n)\t显示前 n 行数据；\n",
    "\n",
    "df.tail(n)\t显示后 n 行数据；\n",
    "\n",
    "df.info()\t显示数据的信息，包括列名、数据类型、缺失值等；\n",
    "\n",
    "df.describe()\t显示数据的基本统计信息，包括均值、方差、最大值、最小值等；\n",
    "\n",
    "df.shape\t显示数据的行数和列数。"
   ]
  },
  {
   "cell_type": "code",
   "execution_count": 53,
   "metadata": {},
   "outputs": [
    {
     "name": "stdout",
     "output_type": "stream",
     "text": [
      "     name  likes                     url\n",
      "0  Google     25  https://www.google.com\n",
      "1  Runoob     30  https://www.runoob.com\n",
      "--------------------------------------------------------------------------------\n",
      "     name  likes                     url\n",
      "2  Taobao     35  https://www.taobao.com\n",
      "--------------------------------------------------------------------------------\n",
      "<class 'pandas.core.frame.DataFrame'>\n",
      "RangeIndex: 3 entries, 0 to 2\n",
      "Data columns (total 3 columns):\n",
      " #   Column  Non-Null Count  Dtype \n",
      "---  ------  --------------  ----- \n",
      " 0   name    3 non-null      object\n",
      " 1   likes   3 non-null      int64 \n",
      " 2   url     3 non-null      object\n",
      "dtypes: int64(1), object(2)\n",
      "memory usage: 200.0+ bytes\n",
      "None\n",
      "--------------------------------------------------------------------------------\n",
      "       likes\n",
      "count    3.0\n",
      "mean    30.0\n",
      "std      5.0\n",
      "min     25.0\n",
      "25%     27.5\n",
      "50%     30.0\n",
      "75%     32.5\n",
      "max     35.0\n",
      "--------------------------------------------------------------------------------\n",
      "(3, 3)\n"
     ]
    }
   ],
   "source": [
    "data = [\n",
    "    {\"name\": \"Google\", \"likes\": 25, \"url\": \"https://www.google.com\"},\n",
    "    {\"name\": \"Runoob\", \"likes\": 30, \"url\": \"https://www.runoob.com\"},\n",
    "    {\"name\": \"Taobao\", \"likes\": 35, \"url\": \"https://www.taobao.com\"}\n",
    "]\n",
    "\n",
    "df = pd.DataFrame(data)\n",
    "# 显示前两行数据\n",
    "print(df.head(2))\n",
    "print(\"-\"*80)\n",
    "# 显示前最后一行数据\n",
    "print(df.tail(1))\n",
    "print(\"-\"*80)\n",
    "\n",
    "print(df.info())\n",
    "print(\"-\"*80)\n",
    "\n",
    "print(df.describe())\n",
    "print(\"-\"*80)\n",
    "\n",
    "print(df.shape)"
   ]
  },
  {
   "cell_type": "markdown",
   "metadata": {},
   "source": [
    "**数据清洗**\n",
    "\n",
    "df.dropna()\t删除包含缺失值的行或列；\n",
    "\n",
    "df.fillna(value)\t将缺失值替换为指定的值；\n",
    "\n",
    "df.replace(old_value, new_value)\t将指定值替换为新值；\n",
    "\n",
    "df.duplicated()\t检查是否有重复的数据；\n",
    "\n",
    "df.drop_duplicates()\t删除重复的数据。"
   ]
  },
  {
   "cell_type": "markdown",
   "metadata": {},
   "source": [
    "**数据选择和切片**\n",
    "\n",
    "df[column_name]\t选择指定的列；\n",
    "\n",
    "df.loc[row_index, column_name]\t通过标签选择数据；\n",
    "\n",
    "df.iloc[row_index, column_index]\t通过位置选择数据；\n",
    "\n",
    "df.ix[row_index, column_name]\t通过标签或位置选择数据；\n",
    "\n",
    "df.filter(items=[column_name1, column_name2])\t选择指定的列；\n",
    "\n",
    "df.filter(regex='regex')\t选择列名匹配正则表达式的列；\n",
    "\n",
    "df.sample(n)\t随机选择 n 行数据。"
   ]
  },
  {
   "cell_type": "markdown",
   "metadata": {},
   "source": [
    "## Pandas 相关性分析\n",
    "\n",
    "在 Pandas 中，数据相关性分析是通过计算不同变量之间的相关系数来了解它们之间的关系。\n",
    "\n",
    "在 Pandas 中，数据相关性是一项重要的分析任务，它帮助我们理解数据中各个变量之间的关系。\n",
    "\n",
    "Pandas 使用 corr() 方法计算数据集中每列之间的关系。\n",
    "\n",
    "**df.corr(method='pearson', min_periods=1)**\n",
    "\n",
    "method (可选): 字符串类型，用于指定计算相关系数的方法。默认是 'pearson'，还可以选择 'kendall'（Kendall Tau 相关系数）或 'spearman'（Spearman 秩相关系数）。\n",
    "\n",
    "min_periods (可选): 表示计算相关系数时所需的最小观测值数量。默认值是 1，即只要有至少一个非空值，就会进行计算。如果指定了 min_periods，并且在某些列中的非空值数量小于该值，则相应列的相关系数将被设为 NaN"
   ]
  },
  {
   "cell_type": "code",
   "execution_count": 55,
   "metadata": {},
   "outputs": [
    {
     "name": "stdout",
     "output_type": "stream",
     "text": [
      "   A  B\n",
      "0  1  5\n",
      "1  2  4\n",
      "2  3  3\n",
      "3  4  2\n",
      "4  5  1\n",
      "--------------------------------------------------------------------------------\n",
      "     A    B\n",
      "A  1.0 -1.0\n",
      "B -1.0  1.0\n"
     ]
    }
   ],
   "source": [
    "# 创建一个示例数据框\n",
    "data = {'A': [1, 2, 3, 4, 5], 'B': [5, 4, 3, 2, 1]}\n",
    "df = pd.DataFrame(data)\n",
    "print(df)\n",
    "print(\"-\"*80)\n",
    "\n",
    "# 计算 Pearson 相关系数\n",
    "correlation_matrix = df.corr()\n",
    "print(correlation_matrix)"
   ]
  },
  {
   "cell_type": "markdown",
   "metadata": {},
   "source": [
    "说明：Spearman 相关系数矩阵的结果与 Pearson 相关系数矩阵相同，因为这两个变量之间是完全的单调负相关。\n",
    "\n",
    "可视化相关性\n",
    "\n",
    "这里我们要使用 Python 的 Seaborn 库， Seaborn 是一个基于 Matplotlib 的数据可视化库，专注于统计图形的绘制，旨在简化数据可视化的过程。\n",
    "\n",
    "Seaborn 提供了一些简单的高级接口，可以轻松地绘制各种统计图形，包括散点图、折线图、柱状图、热图等，而且具有良好的美学效果。\n",
    "\n",
    "安装 Seaborn："
   ]
  },
  {
   "cell_type": "code",
   "execution_count": 64,
   "metadata": {},
   "outputs": [
    {
     "data": {
      "image/png": "[encoded data removed]",
      "text/plain": [
       "<Figure size 640x480 with 2 Axes>"
      ]
     },
     "metadata": {},
     "output_type": "display_data"
    },
    {
     "data": {
      "image/png": "[encoded data removed]",
      "text/plain": [
       "<Figure size 640x480 with 1 Axes>"
      ]
     },
     "metadata": {},
     "output_type": "display_data"
    }
   ],
   "source": [
    "import seaborn as sns\n",
    "import matplotlib.pyplot as plt\n",
    "\n",
    "# 创建一个示例数据框\n",
    "data = {'A': [1, 2, 3, 4, 5], 'B': [5, 4, 3, 2, 1]}\n",
    "df = pd.DataFrame(data)\n",
    "\n",
    "# 计算 Pearson 相关系数\n",
    "correlation_matrix = df.corr()\n",
    "# 使用热图可视化 Pearson 相关系数\n",
    "# 使用figure表示这是单独一张图，不然不会有两张只会有一张\n",
    "# 确保 sns.heatmap 和 plt.imshow 分别生成独立的图像\n",
    "plt.figure()\n",
    "sns.heatmap(correlation_matrix, annot=True, cmap='coolwarm', fmt=\".2f\")\n",
    "\n",
    "plt.figure()\n",
    "plt.imshow(df)\n",
    "plt.show()"
   ]
  }
 ],
 "metadata": {
  "kernelspec": {
   "display_name": "cs224",
   "language": "python",
   "name": "python3"
  },
  "language_info": {
   "codemirror_mode": {
    "name": "ipython",
    "version": 3
   },
   "file_extension": ".py",
   "mimetype": "text/x-python",
   "name": "python",
   "nbconvert_exporter": "python",
   "pygments_lexer": "ipython3",
   "version": "3.8.19"
  }
 },
 "nbformat": 4,
 "nbformat_minor": 2
}
